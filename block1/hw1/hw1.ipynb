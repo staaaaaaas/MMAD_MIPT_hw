{
 "cells": [
  {
   "cell_type": "markdown",
   "metadata": {
    "toc": true
   },
   "source": [
    "<h1>Table of Contents<span class=\"tocSkip\"></span></h1>\n",
    "<div class=\"toc\"><ul class=\"toc-item\"><li><span><a href=\"#Домашнее-задание-№1\" data-toc-modified-id=\"Домашнее-задание-№1-1\"><span class=\"toc-item-num\">1&nbsp;&nbsp;</span>Домашнее задание №1</a></span></li><li><span><a href=\"#Задание-1\" data-toc-modified-id=\"Задание-1-2\"><span class=\"toc-item-num\">2&nbsp;&nbsp;</span>Задание 1</a></span></li><li><span><a href=\"#Задание-2\" data-toc-modified-id=\"Задание-2-3\"><span class=\"toc-item-num\">3&nbsp;&nbsp;</span>Задание 2</a></span></li><li><span><a href=\"#Задание-3\" data-toc-modified-id=\"Задание-3-4\"><span class=\"toc-item-num\">4&nbsp;&nbsp;</span>Задание 3</a></span></li><li><span><a href=\"#Задание-4\" data-toc-modified-id=\"Задание-4-5\"><span class=\"toc-item-num\">5&nbsp;&nbsp;</span>Задание 4</a></span></li></ul></div>"
   ]
  },
  {
   "cell_type": "markdown",
   "metadata": {
    "colab_type": "text",
    "id": "6Syxlvc-eJnb"
   },
   "source": [
    "# Домашнее задание №1\n",
    "\n",
    "В этом домашнем задании нам нужно закрепить основы синтаксиса python.\n",
    "\n",
    "Отправить ДЗ можно на почту tixons.work@gmail.com\n",
    "\n",
    "Для этого необходимо выставить уровень доступа на комментирование (share -> Get shareable link -> anyone with that link can comment)\n",
    "и отправить мне полученную ссылку. Альтернативно можно приложить файл .ipynb с вашим решением.\n",
    "\n",
    "Сроки выполнения:\n",
    "\n",
    "* мягкий дедлайн 07.05.2020\n",
    "* жесткий дедлайн 14.05.2020\n",
    "\n",
    "Мягкий дедлайн предполагает отправку обратной связи и комментарии по выполнению.\n",
    "После жесткого дедлайна задания не принимаются."
   ]
  },
  {
   "cell_type": "markdown",
   "metadata": {
    "colab_type": "text",
    "id": "MfdWCkREiXnh"
   },
   "source": [
    "# Задание 1\n",
    "\n",
    "Написать программу, которая по входным значениям $a$, $b$, $c$ решала бы квадратное уравнение \n",
    "$(ax^2 + bx + c)$\n",
    "\n",
    "Подсказка, корень можно найти так:\n",
    "```\n",
    "import math \n",
    "math.sqrt(4)\n",
    "```\n",
    "\n"
   ]
  },
  {
   "cell_type": "code",
   "execution_count": 1,
   "metadata": {
    "colab": {
     "base_uri": "https://localhost:8080/",
     "height": 51
    },
    "colab_type": "code",
    "executionInfo": {
     "elapsed": 1248,
     "status": "ok",
     "timestamp": 1588165187386,
     "user": {
      "displayName": "Илья Тихонов",
      "photoUrl": "https://lh3.googleusercontent.com/a-/AOh14GhySkrZCwRuZk13yzBZ3xmdPBmLXaXGly0T-MU4Uww=s64",
      "userId": "02194382173733596590"
     },
     "user_tz": -180
    },
    "id": "htc-I_NdiXtl",
    "outputId": "58b7809f-1ac0-4435-ad91-53274f901b5c"
   },
   "outputs": [
    {
     "name": "stdout",
     "output_type": "stream",
     "text": [
      "x1 = -1.5 \n",
      "x2 = -3.0\n"
     ]
    }
   ],
   "source": [
    "import math \n",
    "\n",
    "a_ = 2\n",
    "b_ = 9\n",
    "c_ = 9\n",
    "\n",
    "# тут я реализовал функцию решения квадратного уравнения через дискриминант, вроде math.sqrt \n",
    "# не извлекает корень из комплексного числа, поэтому приведу два варината, второй использует cmath\n",
    "\n",
    "def sqr_eq(a, b, c):\n",
    "    d = b ** 2 - 4 * a * c\n",
    "    if d < 0:\n",
    "        return 'oops'\n",
    "    else:\n",
    "        x1 = (-b + math.sqrt(d)) / (2 * a)\n",
    "        x2 = (-b - math.sqrt(d)) / (2 * a)\n",
    "        return x1, x2\n",
    "\n",
    "ans = sqr_eq(a_, b_, c_)\n",
    "if len(ans) == 2:\n",
    "    print('x1 =', ans[0], '\\nx2 =', ans[1])\n",
    "else:\n",
    "    print(ans)\n",
    "    \n",
    "#+++++++\n"
   ]
  },
  {
   "cell_type": "code",
   "execution_count": 2,
   "metadata": {},
   "outputs": [
    {
     "name": "stdout",
     "output_type": "stream",
     "text": [
      "x1 = (-0.25+2.1065374432940898j) \n",
      "x2 = (-0.25-2.1065374432940898j)\n"
     ]
    }
   ],
   "source": [
    "# как пример с комплексными корнями (поменял b) \n",
    "import cmath \n",
    "\n",
    "a_ = 2\n",
    "b_ = 1\n",
    "c_ = 9\n",
    "\n",
    "def sqr_eq_n(a, b, c):\n",
    "    d = b ** 2 - 4 * a * c\n",
    "    x1 = (-b + cmath.sqrt(d)) / (2 * a)\n",
    "    x2 = (-b - cmath.sqrt(d)) / (2 * a)\n",
    "    return x1, x2\n",
    "\n",
    "ans = sqr_eq_n(a_, b_, c_)\n",
    "print('x1 =', ans[0], '\\nx2 =', ans[1])\n",
    "    \n",
    "#+++++++"
   ]
  },
  {
   "cell_type": "markdown",
   "metadata": {
    "colab_type": "text",
    "id": "w2H6is-qCphW"
   },
   "source": [
    "# Задание 2\n",
    "\n",
    "Рассмтрим набор данных курса акций Apple (ежедневно) с 01.01.2007 по 29.04.2020. Найти количество выбросов в данных. Выбросом будем считать изменение цены более, чем на 12% (от прошлого дня) в любую сторону.\n",
    "\n",
    "Код по скачке предоставлен заранее, формат данных - питоновкский список.\n",
    "\n",
    "Бонусное задание: \n",
    "\n",
    "Решить с помощью библиотеки Pandas или Numpy. Найти даты этих выбросов.\n",
    "\n"
   ]
  },
  {
   "cell_type": "code",
   "execution_count": 160,
   "metadata": {
    "colab": {
     "base_uri": "https://localhost:8080/",
     "height": 509
    },
    "colab_type": "code",
    "executionInfo": {
     "elapsed": 3669,
     "status": "ok",
     "timestamp": 1588166626992,
     "user": {
      "displayName": "Илья Тихонов",
      "photoUrl": "https://lh3.googleusercontent.com/a-/AOh14GhySkrZCwRuZk13yzBZ3xmdPBmLXaXGly0T-MU4Uww=s64",
      "userId": "02194382173733596590"
     },
     "user_tz": -180
    },
    "id": "LrG5BBhdCpoa",
    "outputId": "24845215-7a31-4593-a392-c970e0c75909"
   },
   "outputs": [
    {
     "name": "stdout",
     "output_type": "stream",
     "text": [
      "Requirement already satisfied: yfinance in d:\\conda\\lib\\site-packages (0.1.54)\n",
      "Requirement already satisfied: requests>=2.20 in d:\\conda\\lib\\site-packages (from yfinance) (2.22.0)\n",
      "Requirement already satisfied: pandas>=0.24 in d:\\conda\\lib\\site-packages (from yfinance) (1.0.1)\n",
      "Requirement already satisfied: multitasking>=0.0.7 in d:\\conda\\lib\\site-packages (from yfinance) (0.0.9)\n",
      "Requirement already satisfied: numpy>=1.15 in d:\\conda\\lib\\site-packages (from yfinance) (1.18.1)\n",
      "Requirement already satisfied: idna<2.9,>=2.5 in d:\\conda\\lib\\site-packages (from requests>=2.20->yfinance) (2.8)\n",
      "Requirement already satisfied: certifi>=2017.4.17 in d:\\conda\\lib\\site-packages (from requests>=2.20->yfinance) (2019.11.28)\n",
      "Requirement already satisfied: urllib3!=1.25.0,!=1.25.1,<1.26,>=1.21.1 in d:\\conda\\lib\\site-packages (from requests>=2.20->yfinance) (1.25.8)\n",
      "Requirement already satisfied: chardet<3.1.0,>=3.0.2 in d:\\conda\\lib\\site-packages (from requests>=2.20->yfinance) (3.0.4)\n",
      "Requirement already satisfied: python-dateutil>=2.6.1 in d:\\conda\\lib\\site-packages (from pandas>=0.24->yfinance) (2.8.1)\n",
      "Requirement already satisfied: pytz>=2017.2 in d:\\conda\\lib\\site-packages (from pandas>=0.24->yfinance) (2019.3)\n",
      "Requirement already satisfied: six>=1.5 in d:\\conda\\lib\\site-packages (from python-dateutil>=2.6.1->pandas>=0.24->yfinance) (1.14.0)\n",
      "[*********************100%***********************]  1 of 1 completed\n"
     ]
    },
    {
     "data": {
      "text/plain": [
       "<matplotlib.axes._subplots.AxesSubplot at 0x413100f208>"
      ]
     },
     "execution_count": 160,
     "metadata": {},
     "output_type": "execute_result"
    },
    {
     "data": {
      "image/png": "[encoded data removed]",
      "text/plain": [
       "<Figure size 432x288 with 1 Axes>"
      ]
     },
     "metadata": {
      "needs_background": "light"
     },
     "output_type": "display_data"
    }
   ],
   "source": [
    "# устанавливаем и импортируем библиотеку для скачивания котровок\n",
    "!pip install yfinance\n",
    "import yfinance as yf  \n",
    " \n",
    "# Скачиваем набор котировок компании Apple с 01.01.2007 по 29.04.2020\n",
    "df = yf.download('AAPL','2007-01-01','2020-04-29')\n",
    "# отображаем на графике\n",
    "df.Close.plot()"
   ]
  },
  {
   "cell_type": "code",
   "execution_count": 161,
   "metadata": {
    "colab": {
     "base_uri": "https://localhost:8080/",
     "height": 68
    },
    "colab_type": "code",
    "executionInfo": {
     "elapsed": 524,
     "status": "ok",
     "timestamp": 1588167373424,
     "user": {
      "displayName": "Илья Тихонов",
      "photoUrl": "https://lh3.googleusercontent.com/a-/AOh14GhySkrZCwRuZk13yzBZ3xmdPBmLXaXGly0T-MU4Uww=s64",
      "userId": "02194382173733596590"
     },
     "user_tz": -180
    },
    "id": "AsAlPQOzGIBg",
    "outputId": "58550644-1950-457b-f08a-fd776588a509"
   },
   "outputs": [
    {
     "name": "stdout",
     "output_type": "stream",
     "text": [
      "[11.971428871154785, 12.237142562866211, 12.149999618530273, 12.210000038146973, 13.224286079406738]\n",
      "Всего выбросов 5\n",
      "Всего дней 3353\n"
     ]
    }
   ],
   "source": [
    "# ваш изначальный набор данных - ежедневная цена цена закрытия, формат - питоновский список список\n",
    "data = df.Close.tolist()\n",
    "# распечатаем пару первых значений\n",
    "print(data[:5])\n",
    "\n",
    "# тут просто итерируемся с 1 элемента, т.к 0 не может быть выбросом(исходя из нашего определения выброса)\n",
    "# и считаем, сколько раз выполнилось условие \n",
    "k = 0\n",
    "for i in range (1, len(data)):\n",
    "    if abs(data[i] - data[i - 1]) > data[i - 1] * 0.12:\n",
    "        k +=1\n",
    "        \n",
    "print('Всего выбросов', k)\n",
    "print('Всего дней', len(data))\n",
    "\n",
    "# ++++++\n"
   ]
  },
  {
   "cell_type": "code",
   "execution_count": 162,
   "metadata": {
    "colab": {
     "base_uri": "https://localhost:8080/",
     "height": 251
    },
    "colab_type": "code",
    "executionInfo": {
     "elapsed": 687,
     "status": "ok",
     "timestamp": 1588167653786,
     "user": {
      "displayName": "Илья Тихонов",
      "photoUrl": "https://lh3.googleusercontent.com/a-/AOh14GhySkrZCwRuZk13yzBZ3xmdPBmLXaXGly0T-MU4Uww=s64",
      "userId": "02194382173733596590"
     },
     "user_tz": -180
    },
    "id": "F99U8uJsEBud",
    "outputId": "1d4918de-d9db-4848-e956-5fbf4661927c"
   },
   "outputs": [
    {
     "name": "stdout",
     "output_type": "stream",
     "text": [
      "Всего выбросов: 5\n"
     ]
    },
    {
     "data": {
      "text/html": [
       "<div>\n",
       "<style scoped>\n",
       "    .dataframe tbody tr th:only-of-type {\n",
       "        vertical-align: middle;\n",
       "    }\n",
       "\n",
       "    .dataframe tbody tr th {\n",
       "        vertical-align: top;\n",
       "    }\n",
       "\n",
       "    .dataframe thead th {\n",
       "        text-align: right;\n",
       "    }\n",
       "</style>\n",
       "<table border=\"1\" class=\"dataframe\">\n",
       "  <thead>\n",
       "    <tr style=\"text-align: right;\">\n",
       "      <th></th>\n",
       "      <th>Open</th>\n",
       "      <th>High</th>\n",
       "      <th>Low</th>\n",
       "      <th>Close</th>\n",
       "      <th>Adj Close</th>\n",
       "      <th>Volume</th>\n",
       "      <th>Emission</th>\n",
       "    </tr>\n",
       "    <tr>\n",
       "      <th>Date</th>\n",
       "      <th></th>\n",
       "      <th></th>\n",
       "      <th></th>\n",
       "      <th></th>\n",
       "      <th></th>\n",
       "      <th></th>\n",
       "      <th></th>\n",
       "    </tr>\n",
       "  </thead>\n",
       "  <tbody>\n",
       "    <tr>\n",
       "      <th>2008-09-29</th>\n",
       "      <td>17.088572</td>\n",
       "      <td>17.097143</td>\n",
       "      <td>14.370000</td>\n",
       "      <td>15.037143</td>\n",
       "      <td>13.052853</td>\n",
       "      <td>655514300</td>\n",
       "      <td>True</td>\n",
       "    </tr>\n",
       "    <tr>\n",
       "      <th>2008-10-13</th>\n",
       "      <td>14.935715</td>\n",
       "      <td>15.790000</td>\n",
       "      <td>14.431429</td>\n",
       "      <td>15.751429</td>\n",
       "      <td>13.672882</td>\n",
       "      <td>384769000</td>\n",
       "      <td>True</td>\n",
       "    </tr>\n",
       "    <tr>\n",
       "      <th>2008-11-24</th>\n",
       "      <td>12.172857</td>\n",
       "      <td>13.541429</td>\n",
       "      <td>12.120000</td>\n",
       "      <td>13.278571</td>\n",
       "      <td>11.526342</td>\n",
       "      <td>360564400</td>\n",
       "      <td>True</td>\n",
       "    </tr>\n",
       "    <tr>\n",
       "      <th>2013-01-24</th>\n",
       "      <td>65.714287</td>\n",
       "      <td>66.532860</td>\n",
       "      <td>64.321426</td>\n",
       "      <td>64.357140</td>\n",
       "      <td>56.360722</td>\n",
       "      <td>365213100</td>\n",
       "      <td>True</td>\n",
       "    </tr>\n",
       "    <tr>\n",
       "      <th>2020-03-16</th>\n",
       "      <td>241.949997</td>\n",
       "      <td>259.079987</td>\n",
       "      <td>240.000000</td>\n",
       "      <td>242.210007</td>\n",
       "      <td>242.210007</td>\n",
       "      <td>80605900</td>\n",
       "      <td>True</td>\n",
       "    </tr>\n",
       "  </tbody>\n",
       "</table>\n",
       "</div>"
      ],
      "text/plain": [
       "                  Open        High         Low       Close   Adj Close  \\\n",
       "Date                                                                     \n",
       "2008-09-29   17.088572   17.097143   14.370000   15.037143   13.052853   \n",
       "2008-10-13   14.935715   15.790000   14.431429   15.751429   13.672882   \n",
       "2008-11-24   12.172857   13.541429   12.120000   13.278571   11.526342   \n",
       "2013-01-24   65.714287   66.532860   64.321426   64.357140   56.360722   \n",
       "2020-03-16  241.949997  259.079987  240.000000  242.210007  242.210007   \n",
       "\n",
       "               Volume  Emission  \n",
       "Date                             \n",
       "2008-09-29  655514300      True  \n",
       "2008-10-13  384769000      True  \n",
       "2008-11-24  360564400      True  \n",
       "2013-01-24  365213100      True  \n",
       "2020-03-16   80605900      True  "
      ]
     },
     "execution_count": 162,
     "metadata": {},
     "output_type": "execute_result"
    }
   ],
   "source": [
    "# бонусное задание\n",
    "# пока что не особо владею pandas, получилось, что получилось\n",
    "# но хотелось бы увидеть более адекватное решение..\n",
    "import pandas as pd\n",
    "\n",
    "data_set = pd.DataFrame(df)\n",
    "\n",
    "data_set['Emission'] = abs(data_set['Close'] - data_set['Close'].shift()) > data_set['Close'].shift() * 0.12\n",
    "emissions = data_set[data_set['Emission'] == True]\n",
    "print('Всего выбросов:', len(emissions))\n",
    "emissions"
   ]
  },
  {
   "cell_type": "code",
   "execution_count": 141,
   "metadata": {
    "colab": {
     "base_uri": "https://localhost:8080/",
     "height": 68
    },
    "colab_type": "code",
    "executionInfo": {
     "elapsed": 705,
     "status": "ok",
     "timestamp": 1588168265351,
     "user": {
      "displayName": "Илья Тихонов",
      "photoUrl": "https://lh3.googleusercontent.com/a-/AOh14GhySkrZCwRuZk13yzBZ3xmdPBmLXaXGly0T-MU4Uww=s64",
      "userId": "02194382173733596590"
     },
     "user_tz": -180
    },
    "id": "wSA_uMbCNGla",
    "outputId": "2ecc2760-a60e-4d07-e3a9-04becdf8396f"
   },
   "outputs": [
    {
     "data": {
      "text/plain": [
       "DatetimeIndex(['2008-09-29', '2008-10-13', '2008-11-24', '2013-01-24',\n",
       "               '2020-03-16'],\n",
       "              dtype='datetime64[ns]', name='Date', freq=None)"
      ]
     },
     "execution_count": 141,
     "metadata": {},
     "output_type": "execute_result"
    }
   ],
   "source": [
    "emissions.index"
   ]
  },
  {
   "cell_type": "markdown",
   "metadata": {
    "colab_type": "text",
    "id": "12SPnUCXhNSy"
   },
   "source": [
    "# Задание 3\n",
    "\n",
    "Предположим, что мы наблюдаем за некоторым признаком нашего набора данных, но в данных есть пропуски. Ваша задача реализовать алгоритм заполнения пропущенных значений с помощью средств python.\n",
    "\n",
    "Изначальный код с инициализацией такого набора данных предоставлен. Реализовать ваше решение можно в блоке \n",
    "\n",
    "\n",
    "```\n",
    "# ваш код тут\n",
    "```\n",
    "\n",
    "Бонусное задание: \n",
    "\n",
    "Решить с помощью библиотеки Pandas"
   ]
  },
  {
   "cell_type": "code",
   "execution_count": 163,
   "metadata": {
    "colab": {
     "base_uri": "https://localhost:8080/",
     "height": 285
    },
    "colab_type": "code",
    "executionInfo": {
     "elapsed": 688,
     "status": "ok",
     "timestamp": 1588106679508,
     "user": {
      "displayName": "Илья Тихонов",
      "photoUrl": "https://lh3.googleusercontent.com/a-/AOh14GhySkrZCwRuZk13yzBZ3xmdPBmLXaXGly0T-MU4Uww=s64",
      "userId": "02194382173733596590"
     },
     "user_tz": -180
    },
    "id": "xVpa1xw4h9e7",
    "outputId": "c8935f19-e1c2-44b3-b571-fa61c8e9dcf8"
   },
   "outputs": [
    {
     "data": {
      "text/plain": [
       "[<matplotlib.lines.Line2D at 0x41313ff608>]"
      ]
     },
     "execution_count": 163,
     "metadata": {},
     "output_type": "execute_result"
    },
    {
     "data": {
      "image/png": "[encoded data removed]",
      "text/plain": [
       "<Figure size 432x288 with 1 Axes>"
      ]
     },
     "metadata": {
      "needs_background": "light"
     },
     "output_type": "display_data"
    }
   ],
   "source": [
    "import random\n",
    "import matplotlib.pyplot as plt\n",
    "import numpy as np\n",
    "from copy import deepcopy\n",
    "\n",
    "# создадим наши данные и добавим к каждой точке синусоиды случайный шум\n",
    "a = np.linspace(0, 25, 100)\n",
    "a = np.sin(a) + [random.gauss(0, 0.2) for i in range(len(a))]\n",
    "\n",
    "# переместил tolist, так как иначе оставался numpy nan\n",
    "a = a.tolist()\n",
    "\n",
    "# создадим 10 случайных пропусков\n",
    "for i in range(10):\n",
    "    a[random.randint(0, len(a) - 1)] = None\n",
    "    \n",
    "b = deepcopy(a)\n",
    "plt.plot(b)"
   ]
  },
  {
   "cell_type": "code",
   "execution_count": 164,
   "metadata": {},
   "outputs": [
    {
     "data": {
      "text/plain": [
       "[<matplotlib.lines.Line2D at 0x411c736288>]"
      ]
     },
     "execution_count": 164,
     "metadata": {},
     "output_type": "execute_result"
    },
    {
     "data": {
      "image/png": "[encoded data removed]",
      "text/plain": [
       "<Figure size 432x288 with 1 Axes>"
      ]
     },
     "metadata": {
      "needs_background": "light"
     },
     "output_type": "display_data"
    }
   ],
   "source": [
    "# моя идея в том, чтобы при попадании в none  брать среднее между предыдущим и следующим\n",
    "# и записывать на позицию, где был none, если следующий тоже none, то вызваем find_next_notNone\n",
    "# для поиска значения not none и используем это значение\n",
    "# если none в нулевом элементе, чтобы не выйти за границы списка, заменим на следующий \n",
    "# аналогично последний на предыдущий (т. к. они не особо влияют на общий вид данных)\n",
    "\n",
    "def find_next_notNone(arr, pos):\n",
    "    res = 0\n",
    "    for i in range(pos, len(arr)):\n",
    "        if arr[i] is not None:\n",
    "            res = a[i]\n",
    "            break\n",
    "    return res\n",
    "            \n",
    "\n",
    "for i in range(len(a)):\n",
    "    if a[i] is None:\n",
    "        if i == 0:\n",
    "            if a[i + 1] is not None:\n",
    "                a[i] = a[i + 1]\n",
    "            else:\n",
    "                arg = find_next_notNone(a, i + 1)\n",
    "                a[i] = arg\n",
    "        elif i == len(a) - 1:\n",
    "            a[i] = a[i - 1]\n",
    "        else:\n",
    "            if a[i + 1] is not None:\n",
    "                a[i] = (a[i - 1] + a[i + 1]) / 2\n",
    "            else:\n",
    "                arg = find_next_notNone(a, i + 1)\n",
    "                if arg == 0: # если не нашли слудющий не none, просто заменим предыдущим значением\n",
    "                    arg = a[i - 1]\n",
    "                a[i] = (a[i - 1] + arg) / 2\n",
    "                \n",
    "# отобразим\n",
    "plt.plot(a)\n",
    "\n",
    "#+++++++++"
   ]
  },
  {
   "cell_type": "code",
   "execution_count": 165,
   "metadata": {
    "colab": {
     "base_uri": "https://localhost:8080/",
     "height": 283
    },
    "colab_type": "code",
    "executionInfo": {
     "elapsed": 694,
     "status": "ok",
     "timestamp": 1588106578992,
     "user": {
      "displayName": "Илья Тихонов",
      "photoUrl": "https://lh3.googleusercontent.com/a-/AOh14GhySkrZCwRuZk13yzBZ3xmdPBmLXaXGly0T-MU4Uww=s64",
      "userId": "02194382173733596590"
     },
     "user_tz": -180
    },
    "id": "Na941_E0f4Gb",
    "outputId": "703eb520-c93c-404a-92ef-0dbd93e563bb"
   },
   "outputs": [
    {
     "data": {
      "text/plain": [
       "[<matplotlib.lines.Line2D at 0x41241f8708>]"
      ]
     },
     "execution_count": 165,
     "metadata": {},
     "output_type": "execute_result"
    },
    {
     "data": {
      "image/png": "[encoded data removed]",
      "text/plain": [
       "<Figure size 432x288 with 1 Axes>"
      ]
     },
     "metadata": {
      "needs_background": "light"
     },
     "output_type": "display_data"
    }
   ],
   "source": [
    "# бонусное задание\n",
    "import random\n",
    "import matplotlib.pyplot as plt\n",
    "\n",
    "# создадим наши данные и добавим к каждой точке синусоиды случайный шум\n",
    "a = np.linspace(0, 25, 100)\n",
    "a = np.sin(a) + [random.gauss(0, 0.2) for i in range(len(a))]\n",
    "\n",
    "# создадим 10 случайных пропусков\n",
    "for i in range(10):\n",
    "    a[random.randint(0, len(a) - 1)] = None\n",
    "# создадим датафрейм\n",
    "df = pd.DataFrame({'target':a})\n",
    "# отобразим\n",
    "plt.plot(df.target.values)"
   ]
  },
  {
   "cell_type": "code",
   "execution_count": 166,
   "metadata": {},
   "outputs": [
    {
     "data": {
      "text/plain": [
       "[<matplotlib.lines.Line2D at 0x4131093608>]"
      ]
     },
     "execution_count": 166,
     "metadata": {},
     "output_type": "execute_result"
    },
    {
     "data": {
      "image/png": "[encoded data removed]",
      "text/plain": [
       "<Figure size 432x288 with 1 Axes>"
      ]
     },
     "metadata": {
      "needs_background": "light"
     },
     "output_type": "display_data"
    }
   ],
   "source": [
    "# тут немного не уверен, что правильно, сначала попробовал заполнять таким образом: df.fillna(df.mean())\n",
    "# т.е по среднему, картинка получилась ужасной относительно той, которая была, как и ожидалось в принципе\n",
    "# а вот заполнение предыдущими дало неплохой результат\n",
    "\n",
    "df = df.fillna(method='pad')\n",
    "plt.plot(df.target.values)"
   ]
  },
  {
   "cell_type": "markdown",
   "metadata": {
    "colab_type": "text",
    "id": "Y9IB5yaKLT6s"
   },
   "source": [
    "# Задание 4\n",
    "\n",
    "Важной частью классических алгоритмов машинного обучения является операции с матрицами. Реализуйте код, который перемножит матрицы. (Как это и зачем это нужно делать будет рассмотрено далее в курсе, на текущий момент алгоритм можно найти [тут](https://ru.wikipedia.org/wiki/%D0%A3%D0%BC%D0%BD%D0%BE%D0%B6%D0%B5%D0%BD%D0%B8%D0%B5_%D0%BC%D0%B0%D1%82%D1%80%D0%B8%D1%86) )\n",
    "\n",
    "Бонусное задание:\n",
    "\n",
    "Решить с помощью библиотеки Numpy."
   ]
  },
  {
   "cell_type": "code",
   "execution_count": 167,
   "metadata": {
    "colab": {
     "base_uri": "https://localhost:8080/",
     "height": 34
    },
    "colab_type": "code",
    "executionInfo": {
     "elapsed": 524,
     "status": "ok",
     "timestamp": 1588244172019,
     "user": {
      "displayName": "Илья Тихонов",
      "photoUrl": "https://lh3.googleusercontent.com/a-/AOh14GhySkrZCwRuZk13yzBZ3xmdPBmLXaXGly0T-MU4Uww=s64",
      "userId": "02194382173733596590"
     },
     "user_tz": -180
    },
    "id": "xWJrveRCnxG6",
    "outputId": "e514d7f5-4fbd-41ed-d927-014365591c67"
   },
   "outputs": [
    {
     "data": {
      "text/plain": [
       "[[-8, -4], [2, -5]]"
      ]
     },
     "execution_count": 167,
     "metadata": {},
     "output_type": "execute_result"
    }
   ],
   "source": [
    "matrix_A = [[1, 3, -5], [3, 0, 2]]\n",
    "matrix_B = [[0, -3], [-1, 3], [1, 2]]\n",
    "\n",
    "# просто перемножение матриц в 3 цикла\n",
    "\n",
    "def mul(A,B):\n",
    "    if len(A[0]) != len(B):\n",
    "        return 'oops'\n",
    "    else:\n",
    "        C = []\n",
    "        for i in range(0,len(A)):\n",
    "            c_ = []\n",
    "            for j in range(0,len(B[0])):\n",
    "                elem = 0\n",
    "                for k in range(0,len(B)):\n",
    "                    elem += A[i][k] * B[k][j]\n",
    "                c_.append(elem)\n",
    "            C.append(c_)        \n",
    "        return C\n",
    "\n",
    "mul(matrix_A, matrix_B)\n"
   ]
  },
  {
   "cell_type": "code",
   "execution_count": 168,
   "metadata": {
    "colab": {
     "base_uri": "https://localhost:8080/",
     "height": 51
    },
    "colab_type": "code",
    "executionInfo": {
     "elapsed": 601,
     "status": "ok",
     "timestamp": 1588244202470,
     "user": {
      "displayName": "Илья Тихонов",
      "photoUrl": "https://lh3.googleusercontent.com/a-/AOh14GhySkrZCwRuZk13yzBZ3xmdPBmLXaXGly0T-MU4Uww=s64",
      "userId": "02194382173733596590"
     },
     "user_tz": -180
    },
    "id": "Mx05wB2hsy1r",
    "outputId": "495bf035-f4fd-43ad-87d0-9522bdfd1476"
   },
   "outputs": [
    {
     "data": {
      "text/plain": [
       "array([[-8, -4],\n",
       "       [ 2, -5]])"
      ]
     },
     "execution_count": 168,
     "metadata": {},
     "output_type": "execute_result"
    }
   ],
   "source": [
    "# бонусное задание\n",
    "matrix_A = np.array(matrix_A)\n",
    "matrix_B = np.array(matrix_B)\n",
    "\n",
    "np.dot(matrix_A, matrix_B)\n",
    "\n"
   ]
  },
  {
   "cell_type": "code",
   "execution_count": null,
   "metadata": {
    "colab": {},
    "colab_type": "code",
    "id": "29e8UvVKuz-r"
   },
   "outputs": [],
   "source": []
  }
 ],
 "metadata": {
  "colab": {
   "collapsed_sections": [],
   "name": "Copy of ДЗ №1.ipynb",
   "provenance": [
    {
     "file_id": "1vULNwtwOIJXrxyDX_YzMv9oR8F2Cxz9x",
     "timestamp": 1588342440249
    }
   ],
   "toc_visible": true
  },
  "kernelspec": {
   "display_name": "Python 3",
   "language": "python",
   "name": "python3"
  },
  "language_info": {
   "codemirror_mode": {
    "name": "ipython",
    "version": 3
   },
   "file_extension": ".py",
   "mimetype": "text/x-python",
   "name": "python",
   "nbconvert_exporter": "python",
   "pygments_lexer": "ipython3",
   "version": "3.7.6"
  },
  "toc": {
   "base_numbering": 1,
   "nav_menu": {},
   "number_sections": true,
   "sideBar": true,
   "skip_h1_title": false,
   "title_cell": "Table of Contents",
   "title_sidebar": "Contents",
   "toc_cell": true,
   "toc_position": {
    "height": "789px",
    "left": "812px",
    "top": "297px",
    "width": "233px"
   },
   "toc_section_display": true,
   "toc_window_display": true
  }
 },
 "nbformat": 4,
 "nbformat_minor": 1
}
