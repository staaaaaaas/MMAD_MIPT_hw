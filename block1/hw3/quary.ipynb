{
 "cells": [
  {
   "cell_type": "code",
   "execution_count": null,
   "metadata": {},
   "outputs": [],
   "source": [
    "df = pd.read_sql(\n",
    "'''\n",
    "SELECT my_select.Order_num,\n",
    "    my_select.Customer_num,\n",
    "    my_select.Required_date_of_delivery,\n",
    "    my_select.Date_of_delivery,\n",
    "    my_select.Delivery_status,\n",
    "    my_select.Credit_limit,\n",
    "    payments.amount as Amount,\n",
    "    payments.paymentDate as Payment_Date\n",
    "FROM\n",
    "(SELECT orders.orderNumber as Order_num,\n",
    "    orders.customerNumber as Customer_num,\n",
    "    orders.requiredDate as Required_date_of_delivery,\n",
    "    orders.shippedDate as Date_of_delivery,\n",
    "    orders.status as Delivery_status,\n",
    "    customers.creditLimit as Credit_limit\n",
    "FROM orders\n",
    "INNER JOIN customers\n",
    "ON orders.customerNumber = customers.customerNumber\n",
    "ORDER BY Order_num) as my_select\n",
    "\n",
    "INNER JOIN  payments\n",
    "ON my_select.Customer_num = payments.customerNumber;\n",
    "''', connection)\n",
    "df.head(10)"
   ]
  }
 ],
 "metadata": {
  "kernelspec": {
   "display_name": "Python 3",
   "language": "python",
   "name": "python3"
  },
  "language_info": {
   "codemirror_mode": {
    "name": "ipython",
    "version": 3
   },
   "file_extension": ".py",
   "mimetype": "text/x-python",
   "name": "python",
   "nbconvert_exporter": "python",
   "pygments_lexer": "ipython3",
   "version": "3.7.6"
  },
  "toc": {
   "base_numbering": 1,
   "nav_menu": {},
   "number_sections": true,
   "sideBar": true,
   "skip_h1_title": false,
   "title_cell": "Table of Contents",
   "title_sidebar": "Contents",
   "toc_cell": false,
   "toc_position": {},
   "toc_section_display": true,
   "toc_window_display": true
  }
 },
 "nbformat": 4,
 "nbformat_minor": 4
}
