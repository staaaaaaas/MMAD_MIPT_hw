{
 "cells": [
  {
   "cell_type": "markdown",
   "metadata": {},
   "source": [
    "В этом ноутбуке:\n",
    "\n",
    "* Преобработка данных\n",
    "* Данные обрезаются до 100000\n",
    "* Предсттавление текста tf-idf\n",
    "\n",
    "На обрезанных данных пробуются разные алгоритмы с целью выявить лучшие для всего объёма данных:\n",
    "\n",
    "* MultinomialNB\n",
    "* ComplementNB\n",
    "* BernoulliNB\n",
    "* LogisticRegression\n",
    "* SVC\n",
    "* LinearSVC\n",
    "* Random Forest\n",
    "\n",
    "Тюнинг алгоритмов проводится с помощью распараллеливания кросс-валидации через dask\n",
    "\n",
    "Ссылка на данные https://www.kaggle.com/kazanova/sentiment140"
   ]
  },
  {
   "cell_type": "markdown",
   "metadata": {},
   "source": [
    "# Импорт библиотек"
   ]
  },
  {
   "cell_type": "code",
   "execution_count": 1,
   "metadata": {},
   "outputs": [],
   "source": [
    "import numpy as np\n",
    "import pandas as pd\n",
    "import matplotlib.pyplot as plt\n",
    "import seaborn as sns"
   ]
  },
  {
   "cell_type": "markdown",
   "metadata": {},
   "source": [
    "# Загрузка и предобработка данных"
   ]
  },
  {
   "cell_type": "code",
   "execution_count": 2,
   "metadata": {},
   "outputs": [
    {
     "data": {
      "text/html": [
       "<div>\n",
       "<style scoped>\n",
       "    .dataframe tbody tr th:only-of-type {\n",
       "        vertical-align: middle;\n",
       "    }\n",
       "\n",
       "    .dataframe tbody tr th {\n",
       "        vertical-align: top;\n",
       "    }\n",
       "\n",
       "    .dataframe thead th {\n",
       "        text-align: right;\n",
       "    }\n",
       "</style>\n",
       "<table border=\"1\" class=\"dataframe\">\n",
       "  <thead>\n",
       "    <tr style=\"text-align: right;\">\n",
       "      <th></th>\n",
       "      <th>target</th>\n",
       "      <th>id</th>\n",
       "      <th>date</th>\n",
       "      <th>flag</th>\n",
       "      <th>user</th>\n",
       "      <th>text</th>\n",
       "    </tr>\n",
       "  </thead>\n",
       "  <tbody>\n",
       "    <tr>\n",
       "      <th>0</th>\n",
       "      <td>0</td>\n",
       "      <td>1467810369</td>\n",
       "      <td>Mon Apr 06 22:19:45 PDT 2009</td>\n",
       "      <td>NO_QUERY</td>\n",
       "      <td>_TheSpecialOne_</td>\n",
       "      <td>@switchfoot http://twitpic.com/2y1zl - Awww, t...</td>\n",
       "    </tr>\n",
       "    <tr>\n",
       "      <th>1</th>\n",
       "      <td>0</td>\n",
       "      <td>1467810672</td>\n",
       "      <td>Mon Apr 06 22:19:49 PDT 2009</td>\n",
       "      <td>NO_QUERY</td>\n",
       "      <td>scotthamilton</td>\n",
       "      <td>is upset that he can't update his Facebook by ...</td>\n",
       "    </tr>\n",
       "    <tr>\n",
       "      <th>2</th>\n",
       "      <td>0</td>\n",
       "      <td>1467810917</td>\n",
       "      <td>Mon Apr 06 22:19:53 PDT 2009</td>\n",
       "      <td>NO_QUERY</td>\n",
       "      <td>mattycus</td>\n",
       "      <td>@Kenichan I dived many times for the ball. Man...</td>\n",
       "    </tr>\n",
       "    <tr>\n",
       "      <th>3</th>\n",
       "      <td>0</td>\n",
       "      <td>1467811184</td>\n",
       "      <td>Mon Apr 06 22:19:57 PDT 2009</td>\n",
       "      <td>NO_QUERY</td>\n",
       "      <td>ElleCTF</td>\n",
       "      <td>my whole body feels itchy and like its on fire</td>\n",
       "    </tr>\n",
       "    <tr>\n",
       "      <th>4</th>\n",
       "      <td>0</td>\n",
       "      <td>1467811193</td>\n",
       "      <td>Mon Apr 06 22:19:57 PDT 2009</td>\n",
       "      <td>NO_QUERY</td>\n",
       "      <td>Karoli</td>\n",
       "      <td>@nationwideclass no, it's not behaving at all....</td>\n",
       "    </tr>\n",
       "  </tbody>\n",
       "</table>\n",
       "</div>"
      ],
      "text/plain": [
       "   target          id                          date      flag  \\\n",
       "0       0  1467810369  Mon Apr 06 22:19:45 PDT 2009  NO_QUERY   \n",
       "1       0  1467810672  Mon Apr 06 22:19:49 PDT 2009  NO_QUERY   \n",
       "2       0  1467810917  Mon Apr 06 22:19:53 PDT 2009  NO_QUERY   \n",
       "3       0  1467811184  Mon Apr 06 22:19:57 PDT 2009  NO_QUERY   \n",
       "4       0  1467811193  Mon Apr 06 22:19:57 PDT 2009  NO_QUERY   \n",
       "\n",
       "              user                                               text  \n",
       "0  _TheSpecialOne_  @switchfoot http://twitpic.com/2y1zl - Awww, t...  \n",
       "1    scotthamilton  is upset that he can't update his Facebook by ...  \n",
       "2         mattycus  @Kenichan I dived many times for the ball. Man...  \n",
       "3          ElleCTF    my whole body feels itchy and like its on fire   \n",
       "4           Karoli  @nationwideclass no, it's not behaving at all....  "
      ]
     },
     "execution_count": 2,
     "metadata": {},
     "output_type": "execute_result"
    }
   ],
   "source": [
    "# загрузка\n",
    "df = pd.read_csv('training.1600000.processed.noemoticon.csv',names=['target', 'id', 'date', 'flag', 'user', 'text'],\n",
    "                 encoding='latin-1')\n",
    "\n",
    "# отображение\n",
    "df.head()"
   ]
  },
  {
   "cell_type": "code",
   "execution_count": 3,
   "metadata": {},
   "outputs": [
    {
     "data": {
      "text/plain": [
       "1600000"
      ]
     },
     "execution_count": 3,
     "metadata": {},
     "output_type": "execute_result"
    }
   ],
   "source": [
    "# кол-во данных в датасете\n",
    "len(df)"
   ]
  },
  {
   "cell_type": "markdown",
   "metadata": {},
   "source": [
    "## Удалим все признаки кроме target и text\n",
    "\n",
    "Задача в прогнозировании метки target на основе текстового описания (признак text), остальные признаки неинформативны."
   ]
  },
  {
   "cell_type": "code",
   "execution_count": 4,
   "metadata": {},
   "outputs": [
    {
     "data": {
      "text/html": [
       "<div>\n",
       "<style scoped>\n",
       "    .dataframe tbody tr th:only-of-type {\n",
       "        vertical-align: middle;\n",
       "    }\n",
       "\n",
       "    .dataframe tbody tr th {\n",
       "        vertical-align: top;\n",
       "    }\n",
       "\n",
       "    .dataframe thead th {\n",
       "        text-align: right;\n",
       "    }\n",
       "</style>\n",
       "<table border=\"1\" class=\"dataframe\">\n",
       "  <thead>\n",
       "    <tr style=\"text-align: right;\">\n",
       "      <th></th>\n",
       "      <th>target</th>\n",
       "      <th>text</th>\n",
       "    </tr>\n",
       "  </thead>\n",
       "  <tbody>\n",
       "    <tr>\n",
       "      <th>0</th>\n",
       "      <td>0</td>\n",
       "      <td>@switchfoot http://twitpic.com/2y1zl - Awww, t...</td>\n",
       "    </tr>\n",
       "    <tr>\n",
       "      <th>1</th>\n",
       "      <td>0</td>\n",
       "      <td>is upset that he can't update his Facebook by ...</td>\n",
       "    </tr>\n",
       "    <tr>\n",
       "      <th>2</th>\n",
       "      <td>0</td>\n",
       "      <td>@Kenichan I dived many times for the ball. Man...</td>\n",
       "    </tr>\n",
       "    <tr>\n",
       "      <th>3</th>\n",
       "      <td>0</td>\n",
       "      <td>my whole body feels itchy and like its on fire</td>\n",
       "    </tr>\n",
       "    <tr>\n",
       "      <th>4</th>\n",
       "      <td>0</td>\n",
       "      <td>@nationwideclass no, it's not behaving at all....</td>\n",
       "    </tr>\n",
       "  </tbody>\n",
       "</table>\n",
       "</div>"
      ],
      "text/plain": [
       "   target                                               text\n",
       "0       0  @switchfoot http://twitpic.com/2y1zl - Awww, t...\n",
       "1       0  is upset that he can't update his Facebook by ...\n",
       "2       0  @Kenichan I dived many times for the ball. Man...\n",
       "3       0    my whole body feels itchy and like its on fire \n",
       "4       0  @nationwideclass no, it's not behaving at all...."
      ]
     },
     "execution_count": 4,
     "metadata": {},
     "output_type": "execute_result"
    }
   ],
   "source": [
    "# удаление неинформативных признаков\n",
    "df = df.drop(['id', 'date', 'flag', 'user'], axis = 1)\n",
    "\n",
    "df.head()"
   ]
  },
  {
   "cell_type": "markdown",
   "metadata": {},
   "source": [
    "## Проверим на наличие null значений и дропнем их, если присутсвуют"
   ]
  },
  {
   "cell_type": "code",
   "execution_count": 5,
   "metadata": {},
   "outputs": [
    {
     "name": "stdout",
     "output_type": "stream",
     "text": [
      "<class 'pandas.core.frame.DataFrame'>\n",
      "RangeIndex: 1600000 entries, 0 to 1599999\n",
      "Data columns (total 2 columns):\n",
      " #   Column  Non-Null Count    Dtype \n",
      "---  ------  --------------    ----- \n",
      " 0   target  1600000 non-null  int64 \n",
      " 1   text    1600000 non-null  object\n",
      "dtypes: int64(1), object(1)\n",
      "memory usage: 24.4+ MB\n"
     ]
    }
   ],
   "source": [
    "df.info()"
   ]
  },
  {
   "cell_type": "markdown",
   "metadata": {},
   "source": [
    "Все строки заполнены, null значения отсутсвуют"
   ]
  },
  {
   "cell_type": "markdown",
   "metadata": {},
   "source": [
    "## Посмотрим на балансировку целевой величины"
   ]
  },
  {
   "cell_type": "code",
   "execution_count": 6,
   "metadata": {},
   "outputs": [
    {
     "data": {
      "text/plain": [
       "target\n",
       "0    800000\n",
       "4    800000\n",
       "Name: target, dtype: int64"
      ]
     },
     "execution_count": 6,
     "metadata": {},
     "output_type": "execute_result"
    }
   ],
   "source": [
    "df.groupby('target')['target'].count()\n"
   ]
  },
  {
   "cell_type": "code",
   "execution_count": 7,
   "metadata": {},
   "outputs": [
    {
     "data": {
      "text/plain": [
       "<matplotlib.axes._subplots.AxesSubplot at 0x701e8cacc8>"
      ]
     },
     "execution_count": 7,
     "metadata": {},
     "output_type": "execute_result"
    },
    {
     "data": {
      "image/png": "[encoded data removed]",
      "text/plain": [
       "<Figure size 432x288 with 1 Axes>"
      ]
     },
     "metadata": {
      "needs_background": "light"
     },
     "output_type": "display_data"
    }
   ],
   "source": [
    "balance = df.groupby('target')['target'].count()\n",
    "\n",
    "sns.barplot(x = [0, 4], y = balance)"
   ]
  },
  {
   "cell_type": "markdown",
   "metadata": {},
   "source": [
    "The tweets have been annotated (0 = negative, 2 = neutral, 4 = positive)\n",
    "\n",
    "По заданию классификация на три класса, однако класс 2 = neutral полностью отсутсвует. Переходим к задаче бинарной классификации: (0 = negative, 4 = positive)\n",
    "\n",
    "Для задачи бинарной классификации данные идеально сбалансированны (50 на 50)."
   ]
  },
  {
   "cell_type": "markdown",
   "metadata": {},
   "source": [
    "## Преобразуем метку 4 в метку 1 для удобства (будем классифицировать 0 и 1)"
   ]
  },
  {
   "cell_type": "code",
   "execution_count": 8,
   "metadata": {},
   "outputs": [
    {
     "name": "stderr",
     "output_type": "stream",
     "text": [
      "D:\\conda\\lib\\site-packages\\ipykernel_launcher.py:1: SettingWithCopyWarning: \n",
      "A value is trying to be set on a copy of a slice from a DataFrame\n",
      "\n",
      "See the caveats in the documentation: https://pandas.pydata.org/pandas-docs/stable/user_guide/indexing.html#returning-a-view-versus-a-copy\n",
      "  \"\"\"Entry point for launching an IPython kernel.\n"
     ]
    }
   ],
   "source": [
    "df['target'][df['target'] == 4] = 1"
   ]
  },
  {
   "cell_type": "code",
   "execution_count": 9,
   "metadata": {},
   "outputs": [
    {
     "data": {
      "text/plain": [
       "target\n",
       "0    800000\n",
       "1    800000\n",
       "Name: target, dtype: int64"
      ]
     },
     "execution_count": 9,
     "metadata": {},
     "output_type": "execute_result"
    }
   ],
   "source": [
    "df.groupby('target')['target'].count()"
   ]
  },
  {
   "cell_type": "code",
   "execution_count": 10,
   "metadata": {},
   "outputs": [
    {
     "data": {
      "text/html": [
       "<div>\n",
       "<style scoped>\n",
       "    .dataframe tbody tr th:only-of-type {\n",
       "        vertical-align: middle;\n",
       "    }\n",
       "\n",
       "    .dataframe tbody tr th {\n",
       "        vertical-align: top;\n",
       "    }\n",
       "\n",
       "    .dataframe thead th {\n",
       "        text-align: right;\n",
       "    }\n",
       "</style>\n",
       "<table border=\"1\" class=\"dataframe\">\n",
       "  <thead>\n",
       "    <tr style=\"text-align: right;\">\n",
       "      <th></th>\n",
       "      <th>target</th>\n",
       "      <th>text</th>\n",
       "    </tr>\n",
       "  </thead>\n",
       "  <tbody>\n",
       "    <tr>\n",
       "      <th>0</th>\n",
       "      <td>0</td>\n",
       "      <td>@switchfoot http://twitpic.com/2y1zl - Awww, t...</td>\n",
       "    </tr>\n",
       "    <tr>\n",
       "      <th>1</th>\n",
       "      <td>0</td>\n",
       "      <td>is upset that he can't update his Facebook by ...</td>\n",
       "    </tr>\n",
       "    <tr>\n",
       "      <th>2</th>\n",
       "      <td>0</td>\n",
       "      <td>@Kenichan I dived many times for the ball. Man...</td>\n",
       "    </tr>\n",
       "    <tr>\n",
       "      <th>3</th>\n",
       "      <td>0</td>\n",
       "      <td>my whole body feels itchy and like its on fire</td>\n",
       "    </tr>\n",
       "    <tr>\n",
       "      <th>4</th>\n",
       "      <td>0</td>\n",
       "      <td>@nationwideclass no, it's not behaving at all....</td>\n",
       "    </tr>\n",
       "    <tr>\n",
       "      <th>...</th>\n",
       "      <td>...</td>\n",
       "      <td>...</td>\n",
       "    </tr>\n",
       "    <tr>\n",
       "      <th>1599995</th>\n",
       "      <td>1</td>\n",
       "      <td>Just woke up. Having no school is the best fee...</td>\n",
       "    </tr>\n",
       "    <tr>\n",
       "      <th>1599996</th>\n",
       "      <td>1</td>\n",
       "      <td>TheWDB.com - Very cool to hear old Walt interv...</td>\n",
       "    </tr>\n",
       "    <tr>\n",
       "      <th>1599997</th>\n",
       "      <td>1</td>\n",
       "      <td>Are you ready for your MoJo Makeover? Ask me f...</td>\n",
       "    </tr>\n",
       "    <tr>\n",
       "      <th>1599998</th>\n",
       "      <td>1</td>\n",
       "      <td>Happy 38th Birthday to my boo of alll time!!! ...</td>\n",
       "    </tr>\n",
       "    <tr>\n",
       "      <th>1599999</th>\n",
       "      <td>1</td>\n",
       "      <td>happy #charitytuesday @theNSPCC @SparksCharity...</td>\n",
       "    </tr>\n",
       "  </tbody>\n",
       "</table>\n",
       "<p>1600000 rows × 2 columns</p>\n",
       "</div>"
      ],
      "text/plain": [
       "         target                                               text\n",
       "0             0  @switchfoot http://twitpic.com/2y1zl - Awww, t...\n",
       "1             0  is upset that he can't update his Facebook by ...\n",
       "2             0  @Kenichan I dived many times for the ball. Man...\n",
       "3             0    my whole body feels itchy and like its on fire \n",
       "4             0  @nationwideclass no, it's not behaving at all....\n",
       "...         ...                                                ...\n",
       "1599995       1  Just woke up. Having no school is the best fee...\n",
       "1599996       1  TheWDB.com - Very cool to hear old Walt interv...\n",
       "1599997       1  Are you ready for your MoJo Makeover? Ask me f...\n",
       "1599998       1  Happy 38th Birthday to my boo of alll time!!! ...\n",
       "1599999       1  happy #charitytuesday @theNSPCC @SparksCharity...\n",
       "\n",
       "[1600000 rows x 2 columns]"
      ]
     },
     "execution_count": 10,
     "metadata": {},
     "output_type": "execute_result"
    }
   ],
   "source": [
    "df"
   ]
  },
  {
   "cell_type": "markdown",
   "metadata": {},
   "source": [
    "# Обрежем датасет до 100000 значений, чтобы потом выбрать лучшие алгоритмы"
   ]
  },
  {
   "cell_type": "markdown",
   "metadata": {},
   "source": [
    "## Обрезка"
   ]
  },
  {
   "cell_type": "markdown",
   "metadata": {},
   "source": [
    "Данные не перемешаны, так что сделаем несколько шафлов"
   ]
  },
  {
   "cell_type": "code",
   "execution_count": 11,
   "metadata": {},
   "outputs": [
    {
     "data": {
      "text/html": [
       "<div>\n",
       "<style scoped>\n",
       "    .dataframe tbody tr th:only-of-type {\n",
       "        vertical-align: middle;\n",
       "    }\n",
       "\n",
       "    .dataframe tbody tr th {\n",
       "        vertical-align: top;\n",
       "    }\n",
       "\n",
       "    .dataframe thead th {\n",
       "        text-align: right;\n",
       "    }\n",
       "</style>\n",
       "<table border=\"1\" class=\"dataframe\">\n",
       "  <thead>\n",
       "    <tr style=\"text-align: right;\">\n",
       "      <th></th>\n",
       "      <th>target</th>\n",
       "      <th>text</th>\n",
       "    </tr>\n",
       "  </thead>\n",
       "  <tbody>\n",
       "    <tr>\n",
       "      <th>0</th>\n",
       "      <td>1</td>\n",
       "      <td>@OhSweetNibblets btw they have accepted you</td>\n",
       "    </tr>\n",
       "    <tr>\n",
       "      <th>1</th>\n",
       "      <td>1</td>\n",
       "      <td>is the Birthday Girl</td>\n",
       "    </tr>\n",
       "    <tr>\n",
       "      <th>2</th>\n",
       "      <td>1</td>\n",
       "      <td>I'm so excited. Started writing again today  a...</td>\n",
       "    </tr>\n",
       "    <tr>\n",
       "      <th>3</th>\n",
       "      <td>1</td>\n",
       "      <td>@dan99iel subscribe as in RSS by the way.</td>\n",
       "    </tr>\n",
       "    <tr>\n",
       "      <th>4</th>\n",
       "      <td>0</td>\n",
       "      <td>Ugh im in the middle of nowhere! And i still h...</td>\n",
       "    </tr>\n",
       "  </tbody>\n",
       "</table>\n",
       "</div>"
      ],
      "text/plain": [
       "   target                                               text\n",
       "0       1       @OhSweetNibblets btw they have accepted you \n",
       "1       1                              is the Birthday Girl \n",
       "2       1  I'm so excited. Started writing again today  a...\n",
       "3       1         @dan99iel subscribe as in RSS by the way. \n",
       "4       0  Ugh im in the middle of nowhere! And i still h..."
      ]
     },
     "execution_count": 11,
     "metadata": {},
     "output_type": "execute_result"
    }
   ],
   "source": [
    "# перемешаем 5 раз\n",
    "\n",
    "for i in range(5):\n",
    "    df = df.sample(frac=1).reset_index(drop=True)\n",
    "\n",
    "df.head()"
   ]
  },
  {
   "cell_type": "code",
   "execution_count": 12,
   "metadata": {},
   "outputs": [
    {
     "data": {
      "text/plain": [
       "100000"
      ]
     },
     "execution_count": 12,
     "metadata": {},
     "output_type": "execute_result"
    }
   ],
   "source": [
    "# обрежем до 100000 значений\n",
    "\n",
    "df_cut = df[:100000]\n",
    "\n",
    "len(df_cut)"
   ]
  },
  {
   "cell_type": "markdown",
   "metadata": {},
   "source": [
    "## Ещё раз посмотрим на баланс целевой величины"
   ]
  },
  {
   "cell_type": "code",
   "execution_count": 13,
   "metadata": {},
   "outputs": [
    {
     "data": {
      "text/plain": [
       "<matplotlib.axes._subplots.AxesSubplot at 0x701e9976c8>"
      ]
     },
     "execution_count": 13,
     "metadata": {},
     "output_type": "execute_result"
    },
    {
     "data": {
      "image/png": "[encoded data removed]",
      "text/plain": [
       "<Figure size 432x288 with 1 Axes>"
      ]
     },
     "metadata": {
      "needs_background": "light"
     },
     "output_type": "display_data"
    }
   ],
   "source": [
    "balance = df_cut.groupby('target')['target'].count()\n",
    "\n",
    "sns.barplot(x = [0, 4], y = balance)"
   ]
  },
  {
   "cell_type": "code",
   "execution_count": 14,
   "metadata": {},
   "outputs": [
    {
     "data": {
      "text/plain": [
       "target\n",
       "0    49960\n",
       "1    50040\n",
       "Name: target, dtype: int64"
      ]
     },
     "execution_count": 14,
     "metadata": {},
     "output_type": "execute_result"
    }
   ],
   "source": [
    "df_cut.groupby('target')['target'].count()"
   ]
  },
  {
   "cell_type": "markdown",
   "metadata": {},
   "source": [
    "Баланс примерно остался 50 на 50"
   ]
  },
  {
   "cell_type": "markdown",
   "metadata": {},
   "source": [
    "## Представим text через tf-idf"
   ]
  },
  {
   "cell_type": "code",
   "execution_count": 15,
   "metadata": {},
   "outputs": [
    {
     "data": {
      "text/plain": [
       "0             @OhSweetNibblets btw they have accepted you \n",
       "1                                    is the Birthday Girl \n",
       "2        I'm so excited. Started writing again today  a...\n",
       "3               @dan99iel subscribe as in RSS by the way. \n",
       "4        Ugh im in the middle of nowhere! And i still h...\n",
       "                               ...                        \n",
       "99995    http://twitpic.com/6aijy - yeah you can see my...\n",
       "99996    @fudgethefacts thanks Renee - have been fighti...\n",
       "99997                    I wish today was like yesterday. \n",
       "99998    weird things happen when u wake up before noon...\n",
       "99999    @LynneHutcheson yeh!hahaha. theyr all to sweet...\n",
       "Name: text, Length: 100000, dtype: object"
      ]
     },
     "execution_count": 15,
     "metadata": {},
     "output_type": "execute_result"
    }
   ],
   "source": [
    "# выделим text в отдельную переменную\n",
    "\n",
    "text_frame = df_cut['text'].copy()\n",
    "text_frame"
   ]
  },
  {
   "cell_type": "code",
   "execution_count": 16,
   "metadata": {},
   "outputs": [
    {
     "name": "stderr",
     "output_type": "stream",
     "text": [
      "D:\\conda\\lib\\site-packages\\sklearn\\utils\\deprecation.py:143: FutureWarning: The sklearn.feature_extraction.stop_words module is  deprecated in version 0.22 and will be removed in version 0.24. The corresponding classes / functions should instead be imported from sklearn.feature_extraction.text. Anything that cannot be imported from sklearn.feature_extraction.text is now part of the private API.\n",
      "  warnings.warn(message, FutureWarning)\n"
     ]
    },
    {
     "data": {
      "text/plain": [
       "<1x544032 sparse matrix of type '<class 'numpy.float64'>'\n",
       "\twith 5 stored elements in Compressed Sparse Row format>"
      ]
     },
     "execution_count": 16,
     "metadata": {},
     "output_type": "execute_result"
    }
   ],
   "source": [
    "# импортируем tfidf преобразование\n",
    "from sklearn.feature_extraction.text import TfidfVectorizer\n",
    "\n",
    "# стоп слова\n",
    "from sklearn.feature_extraction.stop_words import ENGLISH_STOP_WORDS\n",
    "\n",
    "# инициализировали алгоритм\n",
    "vectorizer = TfidfVectorizer(stop_words=ENGLISH_STOP_WORDS, ngram_range=(1, 2))\n",
    "\n",
    "# преобразовали в матрицу tfidf \n",
    "text_tfidf = vectorizer.fit_transform(text_frame.values)\n",
    "\n",
    "# отобразим значения \n",
    "\n",
    "text_tfidf[0]"
   ]
  },
  {
   "cell_type": "markdown",
   "metadata": {},
   "source": [
    "## Выделим целевую переменную"
   ]
  },
  {
   "cell_type": "code",
   "execution_count": 17,
   "metadata": {},
   "outputs": [
    {
     "data": {
      "text/plain": [
       "array([1, 1, 1, ..., 1, 1, 0], dtype=int64)"
      ]
     },
     "execution_count": 17,
     "metadata": {},
     "output_type": "execute_result"
    }
   ],
   "source": [
    "y = np.array(df_cut['target'])\n",
    "y"
   ]
  },
  {
   "cell_type": "markdown",
   "metadata": {},
   "source": [
    "## Cделаем train-test split "
   ]
  },
  {
   "cell_type": "code",
   "execution_count": 18,
   "metadata": {},
   "outputs": [],
   "source": [
    "from sklearn.model_selection import train_test_split\n",
    "\n",
    "X_train, X_test, y_train, y_test = train_test_split(text_tfidf,\n",
    "                                                   y,\n",
    "                                                   test_size=0.2,\n",
    "                                                   random_state=42)"
   ]
  },
  {
   "cell_type": "markdown",
   "metadata": {},
   "source": [
    "# Обучение алгоритмов на обрезанных данных"
   ]
  },
  {
   "cell_type": "markdown",
   "metadata": {},
   "source": [
    "## Создадим dask клиент для параллельных вычислений"
   ]
  },
  {
   "cell_type": "code",
   "execution_count": 19,
   "metadata": {},
   "outputs": [
    {
     "data": {
      "text/html": [
       "<table style=\"border: 2px solid white;\">\n",
       "<tr>\n",
       "<td style=\"vertical-align: top; border: 0px solid white\">\n",
       "<h3 style=\"text-align: left;\">Client</h3>\n",
       "<ul style=\"text-align: left; list-style: none; margin: 0; padding: 0;\">\n",
       "  <li><b>Scheduler: </b>tcp://127.0.0.1:57131</li>\n",
       "  <li><b>Dashboard: </b><a href='http://127.0.0.1:8787/status' target='_blank'>http://127.0.0.1:8787/status</a></li>\n",
       "</ul>\n",
       "</td>\n",
       "<td style=\"vertical-align: top; border: 0px solid white\">\n",
       "<h3 style=\"text-align: left;\">Cluster</h3>\n",
       "<ul style=\"text-align: left; list-style:none; margin: 0; padding: 0;\">\n",
       "  <li><b>Workers: </b>8</li>\n",
       "  <li><b>Cores: </b>8</li>\n",
       "  <li><b>Memory: </b>17.12 GB</li>\n",
       "</ul>\n",
       "</td>\n",
       "</tr>\n",
       "</table>"
      ],
      "text/plain": [
       "<Client: 'tcp://127.0.0.1:57131' processes=8 threads=8, memory=17.12 GB>"
      ]
     },
     "execution_count": 19,
     "metadata": {},
     "output_type": "execute_result"
    }
   ],
   "source": [
    "from dask.distributed import Client\n",
    "import joblib\n",
    "\n",
    "client = Client(n_workers=8) \n",
    "client"
   ]
  },
  {
   "cell_type": "markdown",
   "metadata": {},
   "source": [
    "## Алгоритмы Наивного Байеса"
   ]
  },
  {
   "cell_type": "markdown",
   "metadata": {},
   "source": [
    "### Multinomial Naive Bayes"
   ]
  },
  {
   "cell_type": "code",
   "execution_count": 20,
   "metadata": {},
   "outputs": [],
   "source": [
    "# модель\n",
    "\n",
    "from sklearn.naive_bayes import MultinomialNB\n",
    "\n",
    "from sklearn.model_selection import GridSearchCV\n",
    "\n",
    "alg = MultinomialNB()\n",
    "\n",
    "grid = {'alpha': np.array(np.linspace(0, 6, 30), dtype='float')}\n",
    "\n",
    "gs = GridSearchCV(alg, grid, verbose=1 ,scoring='f1')"
   ]
  },
  {
   "cell_type": "code",
   "execution_count": 21,
   "metadata": {},
   "outputs": [
    {
     "name": "stdout",
     "output_type": "stream",
     "text": [
      "Fitting 5 folds for each of 30 candidates, totalling 150 fits\n"
     ]
    },
    {
     "name": "stderr",
     "output_type": "stream",
     "text": [
      "[Parallel(n_jobs=-1)]: Using backend DaskDistributedBackend with 8 concurrent workers.\n",
      "[Parallel(n_jobs=-1)]: Done  34 tasks      | elapsed:    3.6s\n",
      "[Parallel(n_jobs=-1)]: Done 150 out of 150 | elapsed:    6.6s finished\n"
     ]
    }
   ],
   "source": [
    "# параллельная кросс-валидация\n",
    "\n",
    "with joblib.parallel_backend('dask'):\n",
    "    gs.fit(X_train, y_train)"
   ]
  },
  {
   "cell_type": "code",
   "execution_count": 22,
   "metadata": {},
   "outputs": [
    {
     "data": {
      "text/plain": [
       "({'alpha': 4.137931034482759}, 0.7487664683760895)"
      ]
     },
     "execution_count": 22,
     "metadata": {},
     "output_type": "execute_result"
    }
   ],
   "source": [
    "# отобразим лучшие параметры\n",
    "\n",
    "gs.best_params_, gs.best_score_"
   ]
  },
  {
   "cell_type": "code",
   "execution_count": 23,
   "metadata": {},
   "outputs": [
    {
     "name": "stdout",
     "output_type": "stream",
     "text": [
      "              precision    recall  f1-score   support\n",
      "\n",
      "           0       0.75      0.79      0.77     10009\n",
      "           1       0.78      0.73      0.75      9991\n",
      "\n",
      "    accuracy                           0.76     20000\n",
      "   macro avg       0.76      0.76      0.76     20000\n",
      "weighted avg       0.76      0.76      0.76     20000\n",
      "\n"
     ]
    }
   ],
   "source": [
    "# проверим на тесте\n",
    "\n",
    "from sklearn.metrics import classification_report\n",
    "\n",
    "clf = MultinomialNB(alpha=4.137931034482759)\n",
    "clf.fit(X_train, y_train)\n",
    "\n",
    "preds = clf.predict(X_test)\n",
    "\n",
    "print(classification_report(y_test, preds))"
   ]
  },
  {
   "cell_type": "code",
   "execution_count": 24,
   "metadata": {},
   "outputs": [
    {
     "name": "stdout",
     "output_type": "stream",
     "text": [
      "[[7887 2122]\n",
      " [2666 7325]]\n"
     ]
    },
    {
     "data": {
      "text/plain": [
       "Text(0.5, 42.0, 'Predicted value')"
      ]
     },
     "execution_count": 24,
     "metadata": {},
     "output_type": "execute_result"
    },
    {
     "data": {
      "image/png": "[encoded data removed]",
      "text/plain": [
       "<Figure size 576x576 with 2 Axes>"
      ]
     },
     "metadata": {
      "needs_background": "light"
     },
     "output_type": "display_data"
    }
   ],
   "source": [
    "# confusion matrix\n",
    "\n",
    "from sklearn.metrics import confusion_matrix\n",
    "import matplotlib\n",
    "\n",
    "fig = plt.figure(figsize=(8,8))\n",
    "nn_mtx = confusion_matrix(y_test, preds)\n",
    "print(nn_mtx)\n",
    "font = {'weight' : 'bold', 'size'   :22}\n",
    "matplotlib.rc('xtick', labelsize=20) \n",
    "matplotlib.rc('ytick', labelsize=20) \n",
    "sns.heatmap(nn_mtx, annot=True, fmt=\"d\")\n",
    "plt.ylabel(\"Real value\")\n",
    "plt.xlabel(\"Predicted value\")"
   ]
  },
  {
   "cell_type": "markdown",
   "metadata": {},
   "source": [
    "Получили хорошие метрики и, что важно, довольно быстро. f1 метрика у негативного класса - 0.77,  Recall у негативного класса 0.79 - это хорошо, посмотрим, можно ли получить лучше."
   ]
  },
  {
   "cell_type": "markdown",
   "metadata": {},
   "source": [
    "### Complement Naive Bayes"
   ]
  },
  {
   "cell_type": "code",
   "execution_count": 25,
   "metadata": {},
   "outputs": [],
   "source": [
    "# модель\n",
    "\n",
    "from sklearn.naive_bayes import ComplementNB\n",
    "\n",
    "alg = ComplementNB()\n",
    "\n",
    "grid = {'alpha': np.array(np.linspace(0, 6, 30), dtype='float'),\n",
    "        }\n",
    "\n",
    "gs = GridSearchCV(alg, grid, verbose=1, scoring='f1')"
   ]
  },
  {
   "cell_type": "code",
   "execution_count": 26,
   "metadata": {},
   "outputs": [
    {
     "name": "stderr",
     "output_type": "stream",
     "text": [
      "distributed.nanny - WARNING - Worker process still alive after 1 seconds, killing\n",
      "distributed.nanny - WARNING - Worker process still alive after 1 seconds, killing\n",
      "distributed.nanny - WARNING - Worker process still alive after 1 seconds, killing\n",
      "distributed.nanny - WARNING - Worker process still alive after 1 seconds, killing\n",
      "distributed.nanny - WARNING - Worker process still alive after 1 seconds, killing\n",
      "distributed.nanny - WARNING - Worker process still alive after 1 seconds, killing\n",
      "distributed.nanny - WARNING - Worker process still alive after 1 seconds, killing\n",
      "distributed.nanny - WARNING - Worker process still alive after 1 seconds, killing\n"
     ]
    },
    {
     "name": "stdout",
     "output_type": "stream",
     "text": [
      "Fitting 5 folds for each of 30 candidates, totalling 150 fits\n"
     ]
    },
    {
     "name": "stderr",
     "output_type": "stream",
     "text": [
      "[Parallel(n_jobs=-1)]: Using backend DaskDistributedBackend with 8 concurrent workers.\n",
      "[Parallel(n_jobs=-1)]: Done  34 tasks      | elapsed:    3.5s\n",
      "[Parallel(n_jobs=-1)]: Done 150 out of 150 | elapsed:    7.4s finished\n"
     ]
    }
   ],
   "source": [
    "# рестартнем клиент \n",
    "\n",
    "client.restart()\n",
    "\n",
    "# параллельная кросс-валидация\n",
    "\n",
    "with joblib.parallel_backend('dask'):\n",
    "    gs.fit(X_train, y_train)"
   ]
  },
  {
   "cell_type": "code",
   "execution_count": 27,
   "metadata": {},
   "outputs": [
    {
     "data": {
      "text/plain": [
       "({'alpha': 2.896551724137931}, 0.7453436470148891)"
      ]
     },
     "execution_count": 27,
     "metadata": {},
     "output_type": "execute_result"
    }
   ],
   "source": [
    "# отобразим лучшие параметры\n",
    "\n",
    "gs.best_params_, gs.best_score_"
   ]
  },
  {
   "cell_type": "code",
   "execution_count": 28,
   "metadata": {},
   "outputs": [
    {
     "name": "stdout",
     "output_type": "stream",
     "text": [
      "              precision    recall  f1-score   support\n",
      "\n",
      "           0       0.74      0.80      0.77     10009\n",
      "           1       0.78      0.72      0.75      9991\n",
      "\n",
      "    accuracy                           0.76     20000\n",
      "   macro avg       0.76      0.76      0.76     20000\n",
      "weighted avg       0.76      0.76      0.76     20000\n",
      "\n"
     ]
    }
   ],
   "source": [
    "# проверим на тесте\n",
    "\n",
    "from sklearn.metrics import classification_report\n",
    "\n",
    "clf = ComplementNB(alpha=2.896551724137931)\n",
    "clf.fit(X_train, y_train)\n",
    "\n",
    "preds = clf.predict(X_test)\n",
    "\n",
    "print(classification_report(y_test, preds))"
   ]
  },
  {
   "cell_type": "code",
   "execution_count": 29,
   "metadata": {},
   "outputs": [
    {
     "name": "stdout",
     "output_type": "stream",
     "text": [
      "[[7979 2030]\n",
      " [2754 7237]]\n"
     ]
    },
    {
     "data": {
      "text/plain": [
       "Text(0.5, 42.0, 'Predicted value')"
      ]
     },
     "execution_count": 29,
     "metadata": {},
     "output_type": "execute_result"
    },
    {
     "data": {
      "image/png": "[encoded data removed]",
      "text/plain": [
       "<Figure size 576x576 with 2 Axes>"
      ]
     },
     "metadata": {
      "needs_background": "light"
     },
     "output_type": "display_data"
    }
   ],
   "source": [
    "# confusion matrix\n",
    "\n",
    "from sklearn.metrics import confusion_matrix\n",
    "import matplotlib\n",
    "\n",
    "fig = plt.figure(figsize=(8,8))\n",
    "nn_mtx = confusion_matrix(y_test, preds)\n",
    "print(nn_mtx)\n",
    "font = {'weight' : 'bold', 'size'   :22}\n",
    "matplotlib.rc('xtick', labelsize=20) \n",
    "matplotlib.rc('ytick', labelsize=20) \n",
    "sns.heatmap(nn_mtx, annot=True, fmt=\"d\")\n",
    "plt.ylabel(\"Real value\")\n",
    "plt.xlabel(\"Predicted value\")"
   ]
  },
  {
   "cell_type": "markdown",
   "metadata": {},
   "source": [
    "Почти одинаковые метрики, но recall негативного класса уже 0.8, f1 метрика такая же - - 0.77. У позитивного recall упал на одну сотую, f1 метрика такая же - 0.75\n",
    "\n",
    "Из этих двух алгоритмов я бы выбрал ComplementNB, так как, мне кажется,  recall негативного класса важнее"
   ]
  },
  {
   "cell_type": "markdown",
   "metadata": {},
   "source": [
    "### Bernoulli Naive Bayes"
   ]
  },
  {
   "cell_type": "code",
   "execution_count": 31,
   "metadata": {},
   "outputs": [],
   "source": [
    "# модель\n",
    "\n",
    "from sklearn.naive_bayes import BernoulliNB\n",
    "\n",
    "alg = BernoulliNB()\n",
    "\n",
    "grid = {'alpha': np.array(np.linspace(0, 6, 30), dtype='float'),\n",
    "        }\n",
    "\n",
    "gs = GridSearchCV(alg, grid, verbose=1, scoring = 'f1')"
   ]
  },
  {
   "cell_type": "code",
   "execution_count": 32,
   "metadata": {},
   "outputs": [
    {
     "name": "stderr",
     "output_type": "stream",
     "text": [
      "distributed.nanny - WARNING - Worker process still alive after 1 seconds, killing\n",
      "distributed.nanny - WARNING - Worker process still alive after 1 seconds, killing\n",
      "distributed.nanny - WARNING - Worker process still alive after 1 seconds, killing\n",
      "distributed.nanny - WARNING - Worker process still alive after 1 seconds, killing\n",
      "distributed.nanny - WARNING - Worker process still alive after 1 seconds, killing\n",
      "distributed.nanny - WARNING - Worker process still alive after 1 seconds, killing\n",
      "distributed.nanny - WARNING - Worker process still alive after 1 seconds, killing\n",
      "distributed.nanny - WARNING - Worker process still alive after 1 seconds, killing\n"
     ]
    },
    {
     "name": "stdout",
     "output_type": "stream",
     "text": [
      "Fitting 5 folds for each of 30 candidates, totalling 150 fits\n"
     ]
    },
    {
     "name": "stderr",
     "output_type": "stream",
     "text": [
      "[Parallel(n_jobs=-1)]: Using backend DaskDistributedBackend with 8 concurrent workers.\n",
      "[Parallel(n_jobs=-1)]: Done  34 tasks      | elapsed:    4.1s\n",
      "[Parallel(n_jobs=-1)]: Done 150 out of 150 | elapsed:    9.4s finished\n"
     ]
    }
   ],
   "source": [
    "# рестартнем клиент \n",
    "\n",
    "client.restart()\n",
    "\n",
    "# параллельная кросс-валидация\n",
    "\n",
    "with joblib.parallel_backend('dask'):\n",
    "    gs.fit(X_train, y_train)"
   ]
  },
  {
   "cell_type": "code",
   "execution_count": 33,
   "metadata": {},
   "outputs": [
    {
     "data": {
      "text/plain": [
       "({'alpha': 6.0}, 0.7464870961661537)"
      ]
     },
     "execution_count": 33,
     "metadata": {},
     "output_type": "execute_result"
    }
   ],
   "source": [
    "# отобразим лучшие параметры\n",
    "\n",
    "gs.best_params_, gs.best_score_"
   ]
  },
  {
   "cell_type": "code",
   "execution_count": 34,
   "metadata": {},
   "outputs": [
    {
     "name": "stdout",
     "output_type": "stream",
     "text": [
      "              precision    recall  f1-score   support\n",
      "\n",
      "           0       0.74      0.80      0.77     10009\n",
      "           1       0.78      0.72      0.75      9991\n",
      "\n",
      "    accuracy                           0.76     20000\n",
      "   macro avg       0.76      0.76      0.76     20000\n",
      "weighted avg       0.76      0.76      0.76     20000\n",
      "\n"
     ]
    }
   ],
   "source": [
    "# проверим на тесте\n",
    "\n",
    "from sklearn.metrics import classification_report\n",
    "\n",
    "clf = BernoulliNB(alpha=6.0)\n",
    "clf.fit(X_train, y_train)\n",
    "\n",
    "preds = clf.predict(X_test)\n",
    "\n",
    "print(classification_report(y_test, preds))"
   ]
  },
  {
   "cell_type": "code",
   "execution_count": 35,
   "metadata": {},
   "outputs": [
    {
     "name": "stdout",
     "output_type": "stream",
     "text": [
      "[[7989 2020]\n",
      " [2831 7160]]\n"
     ]
    },
    {
     "data": {
      "text/plain": [
       "Text(0.5, 42.0, 'Predicted value')"
      ]
     },
     "execution_count": 35,
     "metadata": {},
     "output_type": "execute_result"
    },
    {
     "data": {
      "image/png": "[encoded data removed]",
      "text/plain": [
       "<Figure size 576x576 with 2 Axes>"
      ]
     },
     "metadata": {
      "needs_background": "light"
     },
     "output_type": "display_data"
    }
   ],
   "source": [
    "# confusion matrix\n",
    "\n",
    "from sklearn.metrics import confusion_matrix\n",
    "import matplotlib\n",
    "\n",
    "fig = plt.figure(figsize=(8,8))\n",
    "nn_mtx = confusion_matrix(y_test, preds)\n",
    "print(nn_mtx)\n",
    "font = {'weight' : 'bold', 'size'   :22}\n",
    "matplotlib.rc('xtick', labelsize=20) \n",
    "matplotlib.rc('ytick', labelsize=20) \n",
    "sns.heatmap(nn_mtx, annot=True, fmt=\"d\")\n",
    "plt.ylabel(\"Real value\")\n",
    "plt.xlabel(\"Predicted value\")"
   ]
  },
  {
   "cell_type": "markdown",
   "metadata": {},
   "source": [
    "Идентичные ComplementNB метрики, но работал BernoulliNB на 2 секунды дольше. Пусть это незначительно, но всё же я выберу из алгоритмов Наивного Байеса ComplementNB для работы с полным датасетом.\n",
    "\n",
    "В целом для таких простых алгоритмов, алгоритмы Наивного Байеса очень быстро обучились и дали хорошие метрики.\n",
    "\n",
    "Целесообразно будет опробовать ComplementNB для всего датасета"
   ]
  },
  {
   "cell_type": "markdown",
   "metadata": {},
   "source": [
    "## Logistic Regression"
   ]
  },
  {
   "cell_type": "code",
   "execution_count": 36,
   "metadata": {},
   "outputs": [],
   "source": [
    "# модель\n",
    "\n",
    "from sklearn.linear_model import LogisticRegression\n",
    "\n",
    "alg = LogisticRegression()\n",
    "\n",
    "grid = {'penalty': ['l1', 'l2', 'elasticnet'],\n",
    "        'C': np.array(np.logspace(-3, 2, num = 10), dtype='float'),\n",
    "        }\n",
    "\n",
    "gs = GridSearchCV(alg, grid, verbose=1,scoring='f1')"
   ]
  },
  {
   "cell_type": "code",
   "execution_count": 37,
   "metadata": {},
   "outputs": [
    {
     "name": "stderr",
     "output_type": "stream",
     "text": [
      "distributed.nanny - WARNING - Worker process still alive after 1 seconds, killing\n",
      "distributed.nanny - WARNING - Worker process still alive after 1 seconds, killing\n",
      "distributed.nanny - WARNING - Worker process still alive after 1 seconds, killing\n",
      "distributed.nanny - WARNING - Worker process still alive after 1 seconds, killing\n",
      "distributed.nanny - WARNING - Worker process still alive after 1 seconds, killing\n",
      "distributed.nanny - WARNING - Worker process still alive after 1 seconds, killing\n",
      "distributed.nanny - WARNING - Worker process still alive after 1 seconds, killing\n",
      "distributed.nanny - WARNING - Worker process still alive after 1 seconds, killing\n"
     ]
    },
    {
     "name": "stdout",
     "output_type": "stream",
     "text": [
      "Fitting 5 folds for each of 30 candidates, totalling 150 fits\n"
     ]
    },
    {
     "name": "stderr",
     "output_type": "stream",
     "text": [
      "[Parallel(n_jobs=-1)]: Using backend DaskDistributedBackend with 8 concurrent workers.\n",
      "[Parallel(n_jobs=-1)]: Done  34 tasks      | elapsed:   10.8s\n",
      "[Parallel(n_jobs=-1)]: Done 150 out of 150 | elapsed:  3.4min finished\n"
     ]
    }
   ],
   "source": [
    "# рестартнем клиент \n",
    "\n",
    "client.restart()\n",
    "\n",
    "# параллельная кросс-валидация\n",
    "\n",
    "with joblib.parallel_backend('dask'):\n",
    "    gs.fit(X_train, y_train)"
   ]
  },
  {
   "cell_type": "code",
   "execution_count": 38,
   "metadata": {},
   "outputs": [
    {
     "data": {
      "text/plain": [
       "({'C': 7.742636826811277, 'penalty': 'l2'}, 0.7703600919198182)"
      ]
     },
     "execution_count": 38,
     "metadata": {},
     "output_type": "execute_result"
    }
   ],
   "source": [
    "# отобразим лучшие параметры\n",
    "\n",
    "gs.best_params_, gs.best_score_"
   ]
  },
  {
   "cell_type": "code",
   "execution_count": 39,
   "metadata": {},
   "outputs": [
    {
     "name": "stdout",
     "output_type": "stream",
     "text": [
      "              precision    recall  f1-score   support\n",
      "\n",
      "           0       0.79      0.75      0.77     10009\n",
      "           1       0.76      0.80      0.78      9991\n",
      "\n",
      "    accuracy                           0.77     20000\n",
      "   macro avg       0.77      0.77      0.77     20000\n",
      "weighted avg       0.77      0.77      0.77     20000\n",
      "\n"
     ]
    },
    {
     "name": "stderr",
     "output_type": "stream",
     "text": [
      "D:\\conda\\lib\\site-packages\\sklearn\\linear_model\\_logistic.py:764: ConvergenceWarning: lbfgs failed to converge (status=1):\n",
      "STOP: TOTAL NO. of ITERATIONS REACHED LIMIT.\n",
      "\n",
      "Increase the number of iterations (max_iter) or scale the data as shown in:\n",
      "    https://scikit-learn.org/stable/modules/preprocessing.html\n",
      "Please also refer to the documentation for alternative solver options:\n",
      "    https://scikit-learn.org/stable/modules/linear_model.html#logistic-regression\n",
      "  extra_warning_msg=_LOGISTIC_SOLVER_CONVERGENCE_MSG)\n"
     ]
    }
   ],
   "source": [
    "# проверим на тесте\n",
    "\n",
    "clf = LogisticRegression(C= 7.742636826811277,penalty='l2')\n",
    "clf.fit(X_train, y_train)\n",
    "\n",
    "preds = clf.predict(X_test)\n",
    "\n",
    "print(classification_report(y_test, preds))"
   ]
  },
  {
   "cell_type": "code",
   "execution_count": 40,
   "metadata": {},
   "outputs": [
    {
     "name": "stdout",
     "output_type": "stream",
     "text": [
      "[[7484 2525]\n",
      " [2038 7953]]\n"
     ]
    },
    {
     "data": {
      "text/plain": [
       "Text(0.5, 42.0, 'Predicted value')"
      ]
     },
     "execution_count": 40,
     "metadata": {},
     "output_type": "execute_result"
    },
    {
     "data": {
      "image/png": "[encoded data removed]",
      "text/plain": [
       "<Figure size 576x576 with 2 Axes>"
      ]
     },
     "metadata": {
      "needs_background": "light"
     },
     "output_type": "display_data"
    }
   ],
   "source": [
    "# confusion matrix\n",
    "\n",
    "from sklearn.metrics import confusion_matrix\n",
    "import matplotlib\n",
    "\n",
    "fig = plt.figure(figsize=(8,8))\n",
    "nn_mtx = confusion_matrix(y_test, preds)\n",
    "print(nn_mtx)\n",
    "font = {'weight' : 'bold', 'size'   :22}\n",
    "matplotlib.rc('xtick', labelsize=20) \n",
    "matplotlib.rc('ytick', labelsize=20) \n",
    "sns.heatmap(nn_mtx, annot=True, fmt=\"d\")\n",
    "plt.ylabel(\"Real value\")\n",
    "plt.xlabel(\"Predicted value\")"
   ]
  },
  {
   "cell_type": "markdown",
   "metadata": {},
   "source": [
    "Получили recall негативного класса ниже - 0.75, f1-метрика осталась прежней - 0.77, то есть возрос\n",
    "precision.\n",
    "\n",
    "Однако, у позитивного класса мы получаем выше recall и выше f1 метрику.\n",
    "\n",
    "Тут нужно решать, что для нас важнее.\n",
    "\n",
    "Если отличать негативные от позитивных, то алгоритмы наивного байеса смотрятся лучше.\n",
    "\n",
    "Если отличать позитивные от негативных, плюс лучше обнаруживать негативные, то лучше логрег\n",
    "\n",
    "Но в целом у логрега лучше f1 метркики (одна такая же, другая лучше), значит в целом алгоритм сработал точнее\n",
    "\n",
    "Сравним его с SVM и выберем второй алгортим, который опробуем на всех данных\n",
    "\n",
    "Так же логрегу нужно добавить итераций\n"
   ]
  },
  {
   "cell_type": "markdown",
   "metadata": {},
   "source": [
    "## SVM"
   ]
  },
  {
   "cell_type": "code",
   "execution_count": 41,
   "metadata": {},
   "outputs": [],
   "source": [
    "# модель\n",
    "\n",
    "from sklearn.svm import SVC\n",
    "\n",
    "alg = SVC()\n",
    "\n",
    "grid = {'C': np.array(np.linspace(-5, 5, 10), dtype='float'),\n",
    "        'kernel': ['linear', 'poly', 'rbf', 'sigmoid'],\n",
    "        }\n",
    "\n",
    "gs = GridSearchCV(alg, grid, verbose=1, scoring='f1')"
   ]
  },
  {
   "cell_type": "code",
   "execution_count": 42,
   "metadata": {},
   "outputs": [
    {
     "name": "stderr",
     "output_type": "stream",
     "text": [
      "distributed.nanny - WARNING - Worker process still alive after 1 seconds, killing\n",
      "distributed.nanny - WARNING - Worker process still alive after 1 seconds, killing\n",
      "distributed.nanny - WARNING - Worker process still alive after 1 seconds, killing\n",
      "distributed.nanny - WARNING - Worker process still alive after 1 seconds, killing\n",
      "distributed.nanny - WARNING - Worker process still alive after 1 seconds, killing\n",
      "distributed.nanny - WARNING - Worker process still alive after 1 seconds, killing\n",
      "distributed.nanny - WARNING - Worker process still alive after 1 seconds, killing\n",
      "distributed.nanny - WARNING - Worker process still alive after 1 seconds, killing\n",
      "distributed.nanny - WARNING - Restarting worker\n"
     ]
    },
    {
     "name": "stdout",
     "output_type": "stream",
     "text": [
      "Fitting 5 folds for each of 40 candidates, totalling 200 fits\n"
     ]
    },
    {
     "name": "stderr",
     "output_type": "stream",
     "text": [
      "[Parallel(n_jobs=-1)]: Using backend DaskDistributedBackend with 8 concurrent workers.\n",
      "[Parallel(n_jobs=-1)]: Done  34 tasks      | elapsed:    4.4s\n",
      "distributed.utils - ERROR - '<' not supported between instances of 'NoneType' and 'tuple'\n",
      "Traceback (most recent call last):\n",
      "  File \"D:\\conda\\lib\\site-packages\\distributed\\utils.py\", line 656, in log_errors\n",
      "    yield\n",
      "  File \"D:\\conda\\lib\\site-packages\\distributed\\dashboard\\components\\scheduler.py\", line 1969, in graph_doc\n",
      "    graph = TaskGraph(scheduler, sizing_mode=\"stretch_both\")\n",
      "  File \"D:\\conda\\lib\\site-packages\\distributed\\dashboard\\components\\scheduler.py\", line 1326, in __init__\n",
      "    self.layout = GraphLayout(scheduler)\n",
      "  File \"D:\\conda\\lib\\site-packages\\distributed\\diagnostics\\graph_layout.py\", line 42, in __init__\n",
      "    priority=priority,\n",
      "  File \"D:\\conda\\lib\\site-packages\\distributed\\diagnostics\\graph_layout.py\", line 48, in update_graph\n",
      "    stack = sorted(tasks, key=lambda k: priority.get(k, 0), reverse=True)\n",
      "TypeError: '<' not supported between instances of 'NoneType' and 'tuple'\n",
      "tornado.application - ERROR - Uncaught exception GET /graph (127.0.0.1)\n",
      "HTTPServerRequest(protocol='http', host='127.0.0.1:8787', method='GET', uri='/graph', version='HTTP/1.1', remote_ip='127.0.0.1')\n",
      "Traceback (most recent call last):\n",
      "  File \"D:\\conda\\lib\\site-packages\\tornado\\web.py\", line 1703, in _execute\n",
      "    result = await result\n",
      "  File \"D:\\conda\\lib\\site-packages\\bokeh\\server\\views\\doc_handler.py\", line 52, in get\n",
      "    session = await self.get_session()\n",
      "  File \"D:\\conda\\lib\\site-packages\\bokeh\\server\\views\\session_handler.py\", line 120, in get_session\n",
      "    session = await self.application_context.create_session_if_needed(session_id, self.request, token)\n",
      "  File \"D:\\conda\\lib\\site-packages\\bokeh\\server\\contexts.py\", line 218, in create_session_if_needed\n",
      "    self._application.initialize_document(doc)\n",
      "  File \"D:\\conda\\lib\\site-packages\\bokeh\\application\\application.py\", line 171, in initialize_document\n",
      "    h.modify_document(doc)\n",
      "  File \"D:\\conda\\lib\\site-packages\\bokeh\\application\\handlers\\function.py\", line 132, in modify_document\n",
      "    self._func(doc)\n",
      "  File \"D:\\conda\\lib\\site-packages\\distributed\\dashboard\\components\\scheduler.py\", line 1969, in graph_doc\n",
      "    graph = TaskGraph(scheduler, sizing_mode=\"stretch_both\")\n",
      "  File \"D:\\conda\\lib\\site-packages\\distributed\\dashboard\\components\\scheduler.py\", line 1326, in __init__\n",
      "    self.layout = GraphLayout(scheduler)\n",
      "  File \"D:\\conda\\lib\\site-packages\\distributed\\diagnostics\\graph_layout.py\", line 42, in __init__\n",
      "    priority=priority,\n",
      "  File \"D:\\conda\\lib\\site-packages\\distributed\\diagnostics\\graph_layout.py\", line 48, in update_graph\n",
      "    stack = sorted(tasks, key=lambda k: priority.get(k, 0), reverse=True)\n",
      "TypeError: '<' not supported between instances of 'NoneType' and 'tuple'\n",
      "Exception ignored in: <function TaskGraph.__del__ at 0x0000007036D1C708>\n",
      "Traceback (most recent call last):\n",
      "  File \"D:\\conda\\lib\\site-packages\\distributed\\dashboard\\components\\scheduler.py\", line 1485, in __del__\n",
      "    self.scheduler.remove_plugin(self.layout)\n",
      "AttributeError: 'TaskGraph' object has no attribute 'layout'\n",
      "tornado.application - ERROR - Uncaught exception GET /status/ws (127.0.0.1)\n",
      "HTTPServerRequest(protocol='http', host='127.0.0.1:8787', method='GET', uri='/status/ws', version='HTTP/1.1', remote_ip='127.0.0.1')\n",
      "Traceback (most recent call last):\n",
      "  File \"D:\\conda\\lib\\site-packages\\tornado\\websocket.py\", line 956, in _accept_connection\n",
      "    open_result = handler.open(*handler.open_args, **handler.open_kwargs)\n",
      "  File \"D:\\conda\\lib\\site-packages\\bokeh\\server\\views\\ws.py\", line 135, in open\n",
      "    raise ProtocolError(\"Token is expired.\")\n",
      "bokeh.protocol.exceptions.ProtocolError: Token is expired.\n",
      "tornado.application - ERROR - Uncaught exception GET /status/ws (127.0.0.1)\n",
      "HTTPServerRequest(protocol='http', host='127.0.0.1:8787', method='GET', uri='/status/ws', version='HTTP/1.1', remote_ip='127.0.0.1')\n",
      "Traceback (most recent call last):\n",
      "  File \"D:\\conda\\lib\\site-packages\\tornado\\websocket.py\", line 956, in _accept_connection\n",
      "    open_result = handler.open(*handler.open_args, **handler.open_kwargs)\n",
      "  File \"D:\\conda\\lib\\site-packages\\bokeh\\server\\views\\ws.py\", line 135, in open\n",
      "    raise ProtocolError(\"Token is expired.\")\n",
      "bokeh.protocol.exceptions.ProtocolError: Token is expired.\n",
      "[Parallel(n_jobs=-1)]: Done 184 tasks      | elapsed: 807.9min\n",
      "[Parallel(n_jobs=-1)]: Done 200 out of 200 | elapsed: 982.1min finished\n"
     ]
    }
   ],
   "source": [
    "# рестартнем клиент \n",
    "\n",
    "client.restart()\n",
    "\n",
    "# параллельная кросс-валидация\n",
    "\n",
    "with joblib.parallel_backend('dask'):\n",
    "    gs.fit(X_train, y_train)"
   ]
  },
  {
   "cell_type": "code",
   "execution_count": 43,
   "metadata": {},
   "outputs": [
    {
     "data": {
      "text/plain": [
       "({'C': 0.5555555555555554, 'kernel': 'linear'}, 0.7735159128327115)"
      ]
     },
     "execution_count": 43,
     "metadata": {},
     "output_type": "execute_result"
    }
   ],
   "source": [
    "# отобразим лучшие параметры\n",
    "\n",
    "gs.best_params_, gs.best_score_"
   ]
  },
  {
   "cell_type": "code",
   "execution_count": 44,
   "metadata": {},
   "outputs": [
    {
     "name": "stdout",
     "output_type": "stream",
     "text": [
      "              precision    recall  f1-score   support\n",
      "\n",
      "           0       0.80      0.73      0.76     10009\n",
      "           1       0.75      0.81      0.78      9991\n",
      "\n",
      "    accuracy                           0.77     20000\n",
      "   macro avg       0.77      0.77      0.77     20000\n",
      "weighted avg       0.77      0.77      0.77     20000\n",
      "\n"
     ]
    }
   ],
   "source": [
    "clf = SVC(C=0.5555555555555554, kernel='linear')\n",
    "clf.fit(X_train, y_train)\n",
    "\n",
    "preds = clf.predict(X_test)\n",
    "\n",
    "print(classification_report(y_test, preds))"
   ]
  },
  {
   "cell_type": "code",
   "execution_count": 45,
   "metadata": {},
   "outputs": [
    {
     "name": "stdout",
     "output_type": "stream",
     "text": [
      "[[7275 2734]\n",
      " [1868 8123]]\n"
     ]
    },
    {
     "data": {
      "text/plain": [
       "Text(0.5, 42.0, 'Predicted value')"
      ]
     },
     "execution_count": 45,
     "metadata": {},
     "output_type": "execute_result"
    },
    {
     "data": {
      "image/png": "[encoded data removed]",
      "text/plain": [
       "<Figure size 576x576 with 2 Axes>"
      ]
     },
     "metadata": {
      "needs_background": "light"
     },
     "output_type": "display_data"
    }
   ],
   "source": [
    "# confusion matrix\n",
    "\n",
    "from sklearn.metrics import confusion_matrix\n",
    "import matplotlib\n",
    "\n",
    "fig = plt.figure(figsize=(8,8))\n",
    "nn_mtx = confusion_matrix(y_test, preds)\n",
    "print(nn_mtx)\n",
    "font = {'weight' : 'bold', 'size'   :22}\n",
    "matplotlib.rc('xtick', labelsize=20) \n",
    "matplotlib.rc('ytick', labelsize=20) \n",
    "sns.heatmap(nn_mtx, annot=True, fmt=\"d\")\n",
    "plt.ylabel(\"Real value\")\n",
    "plt.xlabel(\"Predicted value\")"
   ]
  },
  {
   "cell_type": "markdown",
   "metadata": {},
   "source": [
    "На 100000 значений распаралелленный svm обучался 16 с половиной часов. Значит, на 1600000 значений будет примерно в 16 раз дольше, то есть около 256 часов (10 с половиной суток). \n",
    "\n",
    "SVM не лучший алгоритм для работы с таким объемом данных, да ещё и с текстом в tf-idf (слишком большое пространство признаков)\n",
    "\n",
    "Метрики получились даже немного хуже, чем у логистической регрессии, при этом логрег сработал в 300 раз быстрее на кросс-валидации))))\n",
    "\n",
    "SVM на полном датасете запускать не буду, пока предпочтение отдаю логистической регрессии"
   ]
  },
  {
   "cell_type": "markdown",
   "metadata": {},
   "source": [
    "## LinearSVC\n",
    "\n",
    "Решил так же попробовать алгоритм LinearSVC, так как есть подозрения, что svm так долго работает из-за нелинейных ядер, которые мы перебираем.\n",
    "\n",
    "Так же на кросс-валидации лучшее ядро для svm оказалось линейное, попробуем настроить его точнее."
   ]
  },
  {
   "cell_type": "code",
   "execution_count": 46,
   "metadata": {},
   "outputs": [],
   "source": [
    "# модель\n",
    "\n",
    "from sklearn.svm import LinearSVC\n",
    "\n",
    "alg = LinearSVC()\n",
    "\n",
    "grid = {'C': np.array(np.linspace(0, 5, 10), dtype='float'),\n",
    "        'penalty': ['l1', 'l2'],\n",
    "         }\n",
    "\n",
    "gs = GridSearchCV(alg, grid, verbose=1, scoring='f1')"
   ]
  },
  {
   "cell_type": "code",
   "execution_count": 47,
   "metadata": {},
   "outputs": [
    {
     "name": "stderr",
     "output_type": "stream",
     "text": [
      "distributed.nanny - WARNING - Worker process still alive after 1 seconds, killing\n",
      "distributed.nanny - WARNING - Worker process still alive after 1 seconds, killing\n",
      "distributed.nanny - WARNING - Worker process still alive after 1 seconds, killing\n",
      "distributed.nanny - WARNING - Worker process still alive after 1 seconds, killing\n",
      "distributed.nanny - WARNING - Worker process still alive after 1 seconds, killing\n",
      "distributed.nanny - WARNING - Worker process still alive after 1 seconds, killing\n",
      "distributed.nanny - WARNING - Worker process still alive after 1 seconds, killing\n",
      "distributed.nanny - WARNING - Worker process still alive after 1 seconds, killing\n"
     ]
    },
    {
     "name": "stdout",
     "output_type": "stream",
     "text": [
      "Fitting 5 folds for each of 20 candidates, totalling 100 fits\n"
     ]
    },
    {
     "name": "stderr",
     "output_type": "stream",
     "text": [
      "[Parallel(n_jobs=-1)]: Using backend DaskDistributedBackend with 8 concurrent workers.\n",
      "[Parallel(n_jobs=-1)]: Done  34 tasks      | elapsed:    7.1s\n",
      "[Parallel(n_jobs=-1)]: Done 100 out of 100 | elapsed:   45.9s finished\n"
     ]
    }
   ],
   "source": [
    "#рестартнем клиент \n",
    "\n",
    "client.restart()\n",
    "\n",
    "# параллельная кросс-валидация\n",
    "\n",
    "with joblib.parallel_backend('dask'):\n",
    "    gs.fit(X_train, y_train)"
   ]
  },
  {
   "cell_type": "code",
   "execution_count": 48,
   "metadata": {},
   "outputs": [
    {
     "data": {
      "text/plain": [
       "({'C': 0.5555555555555556, 'penalty': 'l2'}, 0.7717382558909353)"
      ]
     },
     "execution_count": 48,
     "metadata": {},
     "output_type": "execute_result"
    }
   ],
   "source": [
    "# отобразим лучшие параметры\n",
    "\n",
    "gs.best_params_, gs.best_score_"
   ]
  },
  {
   "cell_type": "code",
   "execution_count": 49,
   "metadata": {},
   "outputs": [
    {
     "name": "stdout",
     "output_type": "stream",
     "text": [
      "              precision    recall  f1-score   support\n",
      "\n",
      "           0       0.79      0.74      0.77     10009\n",
      "           1       0.76      0.80      0.78      9991\n",
      "\n",
      "    accuracy                           0.77     20000\n",
      "   macro avg       0.77      0.77      0.77     20000\n",
      "weighted avg       0.77      0.77      0.77     20000\n",
      "\n"
     ]
    }
   ],
   "source": [
    "clf = LinearSVC(C=0.5555555555555556, penalty='l2')\n",
    "clf.fit(X_train, y_train)\n",
    "\n",
    "preds = clf.predict(X_test)\n",
    "\n",
    "print(classification_report(y_test, preds))"
   ]
  },
  {
   "cell_type": "code",
   "execution_count": 50,
   "metadata": {},
   "outputs": [
    {
     "name": "stdout",
     "output_type": "stream",
     "text": [
      "[[7437 2572]\n",
      " [1985 8006]]\n"
     ]
    },
    {
     "data": {
      "text/plain": [
       "Text(0.5, 42.0, 'Predicted value')"
      ]
     },
     "execution_count": 50,
     "metadata": {},
     "output_type": "execute_result"
    },
    {
     "data": {
      "image/png": "[encoded data removed]",
      "text/plain": [
       "<Figure size 576x576 with 2 Axes>"
      ]
     },
     "metadata": {
      "needs_background": "light"
     },
     "output_type": "display_data"
    }
   ],
   "source": [
    "# confusion matrix\n",
    "\n",
    "from sklearn.metrics import confusion_matrix\n",
    "import matplotlib\n",
    "\n",
    "fig = plt.figure(figsize=(8,8))\n",
    "nn_mtx = confusion_matrix(y_test, preds)\n",
    "print(nn_mtx)\n",
    "font = {'weight' : 'bold', 'size'   :22}\n",
    "matplotlib.rc('xtick', labelsize=20) \n",
    "matplotlib.rc('ytick', labelsize=20) \n",
    "sns.heatmap(nn_mtx, annot=True, fmt=\"d\")\n",
    "plt.ylabel(\"Real value\")\n",
    "plt.xlabel(\"Predicted value\")"
   ]
  },
  {
   "cell_type": "markdown",
   "metadata": {},
   "source": [
    "Linear SVC сработал даже быстрее лог рега, получились почти такие же метрики.\n",
    "\n",
    "На полном датасете я хочу попробовать и  Logistic Regression и Linear SVC."
   ]
  },
  {
   "cell_type": "markdown",
   "metadata": {},
   "source": [
    "## Random Forest\n",
    "\n",
    "В прошлом ДЗ RF сработал плохо на тексте, но я решил попробовать ещё раз с лучшим тюнингом"
   ]
  },
  {
   "cell_type": "code",
   "execution_count": 53,
   "metadata": {},
   "outputs": [],
   "source": [
    "# модель\n",
    "\n",
    "from sklearn.ensemble import RandomForestClassifier\n",
    "\n",
    "alg = RandomForestClassifier()\n",
    "\n",
    "grid = {'min_samples_split': [i for i in range(0, 50, 10)],\n",
    "               'max_depth': [i for i in range(5, 15, 3)],\n",
    "               'min_samples_leaf':[i for i in range(2, 4)]\n",
    "             }\n",
    "gs = GridSearchCV(alg, grid, verbose=1, scoring='f1')"
   ]
  },
  {
   "cell_type": "code",
   "execution_count": 54,
   "metadata": {},
   "outputs": [
    {
     "name": "stderr",
     "output_type": "stream",
     "text": [
      "distributed.nanny - WARNING - Worker process still alive after 1 seconds, killing\n",
      "distributed.nanny - WARNING - Worker process still alive after 1 seconds, killing\n",
      "distributed.nanny - WARNING - Worker process still alive after 1 seconds, killing\n",
      "distributed.nanny - WARNING - Worker process still alive after 1 seconds, killing\n",
      "distributed.nanny - WARNING - Worker process still alive after 1 seconds, killing\n",
      "distributed.nanny - WARNING - Worker process still alive after 1 seconds, killing\n",
      "distributed.nanny - WARNING - Worker process still alive after 1 seconds, killing\n",
      "distributed.nanny - WARNING - Restarting worker\n"
     ]
    },
    {
     "name": "stdout",
     "output_type": "stream",
     "text": [
      "Fitting 5 folds for each of 40 candidates, totalling 200 fits\n"
     ]
    },
    {
     "name": "stderr",
     "output_type": "stream",
     "text": [
      "[Parallel(n_jobs=-1)]: Using backend DaskDistributedBackend with 8 concurrent workers.\n",
      "[Parallel(n_jobs=-1)]: Done  34 tasks      | elapsed:  3.0min\n",
      "[Parallel(n_jobs=-1)]: Done 184 tasks      | elapsed: 21.8min\n",
      "[Parallel(n_jobs=-1)]: Done 200 out of 200 | elapsed: 23.2min finished\n"
     ]
    }
   ],
   "source": [
    "#рестартнем клиент \n",
    "\n",
    "client.restart()\n",
    "\n",
    "# параллельная кросс-валидация\n",
    "\n",
    "with joblib.parallel_backend('dask'):\n",
    "    gs.fit(X_train, y_train)"
   ]
  },
  {
   "cell_type": "code",
   "execution_count": 55,
   "metadata": {},
   "outputs": [
    {
     "data": {
      "text/plain": [
       "({'max_depth': 14, 'min_samples_leaf': 3, 'min_samples_split': 40},\n",
       " 0.7353310198098688)"
      ]
     },
     "execution_count": 55,
     "metadata": {},
     "output_type": "execute_result"
    }
   ],
   "source": [
    "# отобразим лучшие параметры\n",
    "\n",
    "gs.best_params_, gs.best_score_"
   ]
  },
  {
   "cell_type": "code",
   "execution_count": 56,
   "metadata": {},
   "outputs": [
    {
     "name": "stdout",
     "output_type": "stream",
     "text": [
      "              precision    recall  f1-score   support\n",
      "\n",
      "           0       0.76      0.60      0.67     10009\n",
      "           1       0.67      0.81      0.73      9991\n",
      "\n",
      "    accuracy                           0.71     20000\n",
      "   macro avg       0.72      0.71      0.70     20000\n",
      "weighted avg       0.72      0.71      0.70     20000\n",
      "\n"
     ]
    }
   ],
   "source": [
    "clf = RandomForestClassifier(max_depth=14, min_samples_leaf= 3, min_samples_split= 40)\n",
    "clf.fit(X_train, y_train)\n",
    "\n",
    "preds = clf.predict(X_test)\n",
    "\n",
    "print(classification_report(y_test, preds))"
   ]
  },
  {
   "cell_type": "code",
   "execution_count": 57,
   "metadata": {},
   "outputs": [
    {
     "name": "stdout",
     "output_type": "stream",
     "text": [
      "[[6027 3982]\n",
      " [1900 8091]]\n"
     ]
    },
    {
     "data": {
      "text/plain": [
       "Text(0.5, 42.0, 'Predicted value')"
      ]
     },
     "execution_count": 57,
     "metadata": {},
     "output_type": "execute_result"
    },
    {
     "data": {
      "image/png": "[encoded data removed]",
      "text/plain": [
       "<Figure size 576x576 with 2 Axes>"
      ]
     },
     "metadata": {
      "needs_background": "light"
     },
     "output_type": "display_data"
    }
   ],
   "source": [
    "# confusion matrix\n",
    "\n",
    "from sklearn.metrics import confusion_matrix\n",
    "import matplotlib\n",
    "\n",
    "fig = plt.figure(figsize=(8,8))\n",
    "nn_mtx = confusion_matrix(y_test, preds)\n",
    "print(nn_mtx)\n",
    "font = {'weight' : 'bold', 'size'   :22}\n",
    "matplotlib.rc('xtick', labelsize=20) \n",
    "matplotlib.rc('ytick', labelsize=20) \n",
    "sns.heatmap(nn_mtx, annot=True, fmt=\"d\")\n",
    "plt.ylabel(\"Real value\")\n",
    "plt.xlabel(\"Predicted value\")"
   ]
  },
  {
   "cell_type": "markdown",
   "metadata": {},
   "source": [
    "Всё таки RF с текстом не очень хорош (слишком большое пр-во признаков)"
   ]
  },
  {
   "cell_type": "markdown",
   "metadata": {},
   "source": [
    "# Небольшой вывод"
   ]
  },
  {
   "cell_type": "markdown",
   "metadata": {},
   "source": [
    "На 100к значений я выбрал алгоритмы, которые показали себя лучше всего, их я опробую на полном датасете (1.6кк занчений). Алгоритмы: ComplementNB, BernoulliNB, LogisticRegression, LinearSVC.\n",
    "\n",
    "\n",
    "Это будет в ноутбуке hw3_fulldata"
   ]
  }
 ],
 "metadata": {
  "kernelspec": {
   "display_name": "Python 3",
   "language": "python",
   "name": "python3"
  },
  "language_info": {
   "codemirror_mode": {
    "name": "ipython",
    "version": 3
   },
   "file_extension": ".py",
   "mimetype": "text/x-python",
   "name": "python",
   "nbconvert_exporter": "python",
   "pygments_lexer": "ipython3",
   "version": "3.7.7"
  },
  "toc": {
   "base_numbering": 1,
   "nav_menu": {},
   "number_sections": true,
   "sideBar": true,
   "skip_h1_title": false,
   "title_cell": "Table of Contents",
   "title_sidebar": "Contents",
   "toc_cell": false,
   "toc_position": {
    "height": "calc(100% - 180px)",
    "left": "10px",
    "top": "150px",
    "width": "384px"
   },
   "toc_section_display": true,
   "toc_window_display": true
  }
 },
 "nbformat": 4,
 "nbformat_minor": 4
}
