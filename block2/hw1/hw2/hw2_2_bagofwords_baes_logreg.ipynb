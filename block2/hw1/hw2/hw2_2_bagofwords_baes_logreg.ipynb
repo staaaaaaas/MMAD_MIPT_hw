{
 "cells": [
  {
   "cell_type": "markdown",
   "metadata": {},
   "source": [
    "* Данные не обрезаны\n",
    "* Представление - bag of words\n",
    "* Очень плохой баланс данных\n",
    "\n",
    " Алгоритмы :\n",
    "* MultinomialNB\n",
    "* ComplementNB\n",
    "* LogisticRegression"
   ]
  },
  {
   "cell_type": "markdown",
   "metadata": {},
   "source": [
    "# Импорт библиотек"
   ]
  },
  {
   "cell_type": "code",
   "execution_count": 9,
   "metadata": {},
   "outputs": [],
   "source": [
    "import numpy as np\n",
    "import pandas as pd\n",
    "import matplotlib.pyplot as plt\n",
    "import seaborn as sns\n",
    "import sklearn"
   ]
  },
  {
   "cell_type": "markdown",
   "metadata": {},
   "source": [
    "# Подготовка данных к обучению"
   ]
  },
  {
   "cell_type": "markdown",
   "metadata": {},
   "source": [
    "Теперь попробуем преобразование bag of words"
   ]
  },
  {
   "cell_type": "markdown",
   "metadata": {},
   "source": [
    "## Предобработка new"
   ]
  },
  {
   "cell_type": "code",
   "execution_count": 10,
   "metadata": {},
   "outputs": [
    {
     "name": "stderr",
     "output_type": "stream",
     "text": [
      "D:\\conda\\lib\\site-packages\\IPython\\core\\interactiveshell.py:3063: DtypeWarning: Columns (5,7) have mixed types.Specify dtype option on import or set low_memory=False.\n",
      "  interactivity=interactivity, compiler=compiler, result=result)\n"
     ]
    },
    {
     "data": {
      "text/html": [
       "<div>\n",
       "<style scoped>\n",
       "    .dataframe tbody tr th:only-of-type {\n",
       "        vertical-align: middle;\n",
       "    }\n",
       "\n",
       "    .dataframe tbody tr th {\n",
       "        vertical-align: top;\n",
       "    }\n",
       "\n",
       "    .dataframe thead th {\n",
       "        text-align: right;\n",
       "    }\n",
       "</style>\n",
       "<table border=\"1\" class=\"dataframe\">\n",
       "  <thead>\n",
       "    <tr style=\"text-align: right;\">\n",
       "      <th></th>\n",
       "      <th>id</th>\n",
       "      <th>title</th>\n",
       "      <th>score</th>\n",
       "      <th>author</th>\n",
       "      <th>author_flair_text</th>\n",
       "      <th>removed_by</th>\n",
       "      <th>total_awards_received</th>\n",
       "      <th>awarders</th>\n",
       "      <th>created_utc</th>\n",
       "      <th>full_link</th>\n",
       "      <th>num_comments</th>\n",
       "      <th>over_18</th>\n",
       "    </tr>\n",
       "  </thead>\n",
       "  <tbody>\n",
       "    <tr>\n",
       "      <th>0</th>\n",
       "      <td>hbyv2e</td>\n",
       "      <td>[OC] How Bar Chart Race Animation Can be Creat...</td>\n",
       "      <td>1</td>\n",
       "      <td>Tom10AE</td>\n",
       "      <td>NaN</td>\n",
       "      <td>NaN</td>\n",
       "      <td>0.0</td>\n",
       "      <td>[]</td>\n",
       "      <td>1592565317</td>\n",
       "      <td>https://www.reddit.com/r/dataisbeautiful/comme...</td>\n",
       "      <td>0</td>\n",
       "      <td>False</td>\n",
       "    </tr>\n",
       "    <tr>\n",
       "      <th>1</th>\n",
       "      <td>hbynoy</td>\n",
       "      <td>[UK] Labour and Conservative vote share by age...</td>\n",
       "      <td>1</td>\n",
       "      <td>Ge0rgeBr0ughton</td>\n",
       "      <td>NaN</td>\n",
       "      <td>NaN</td>\n",
       "      <td>0.0</td>\n",
       "      <td>[]</td>\n",
       "      <td>1592564316</td>\n",
       "      <td>https://www.reddit.com/r/dataisbeautiful/comme...</td>\n",
       "      <td>1</td>\n",
       "      <td>False</td>\n",
       "    </tr>\n",
       "    <tr>\n",
       "      <th>2</th>\n",
       "      <td>hbym2y</td>\n",
       "      <td>[NOC] Number of wallets returned across the wo...</td>\n",
       "      <td>1</td>\n",
       "      <td>i_am_shattered</td>\n",
       "      <td>NaN</td>\n",
       "      <td>NaN</td>\n",
       "      <td>0.0</td>\n",
       "      <td>[]</td>\n",
       "      <td>1592564089</td>\n",
       "      <td>https://www.reddit.com/r/dataisbeautiful/comme...</td>\n",
       "      <td>1</td>\n",
       "      <td>False</td>\n",
       "    </tr>\n",
       "    <tr>\n",
       "      <th>3</th>\n",
       "      <td>hbyirw</td>\n",
       "      <td>Largest Banana Producing Countries (1961-2020)...</td>\n",
       "      <td>1</td>\n",
       "      <td>Bilal078692</td>\n",
       "      <td>NaN</td>\n",
       "      <td>moderator</td>\n",
       "      <td>0.0</td>\n",
       "      <td>[]</td>\n",
       "      <td>1592563628</td>\n",
       "      <td>https://www.reddit.com/r/dataisbeautiful/comme...</td>\n",
       "      <td>0</td>\n",
       "      <td>False</td>\n",
       "    </tr>\n",
       "    <tr>\n",
       "      <th>4</th>\n",
       "      <td>hby1fy</td>\n",
       "      <td>[OC] Popular Combinations for the StamiStudios...</td>\n",
       "      <td>1</td>\n",
       "      <td>shahinrostami</td>\n",
       "      <td>Viz Researcher</td>\n",
       "      <td>NaN</td>\n",
       "      <td>0.0</td>\n",
       "      <td>[]</td>\n",
       "      <td>1592561119</td>\n",
       "      <td>https://www.reddit.com/r/dataisbeautiful/comme...</td>\n",
       "      <td>2</td>\n",
       "      <td>False</td>\n",
       "    </tr>\n",
       "  </tbody>\n",
       "</table>\n",
       "</div>"
      ],
      "text/plain": [
       "       id                                              title  score  \\\n",
       "0  hbyv2e  [OC] How Bar Chart Race Animation Can be Creat...      1   \n",
       "1  hbynoy  [UK] Labour and Conservative vote share by age...      1   \n",
       "2  hbym2y  [NOC] Number of wallets returned across the wo...      1   \n",
       "3  hbyirw  Largest Banana Producing Countries (1961-2020)...      1   \n",
       "4  hby1fy  [OC] Popular Combinations for the StamiStudios...      1   \n",
       "\n",
       "            author author_flair_text removed_by  total_awards_received  \\\n",
       "0          Tom10AE               NaN        NaN                    0.0   \n",
       "1  Ge0rgeBr0ughton               NaN        NaN                    0.0   \n",
       "2   i_am_shattered               NaN        NaN                    0.0   \n",
       "3      Bilal078692               NaN  moderator                    0.0   \n",
       "4    shahinrostami    Viz Researcher        NaN                    0.0   \n",
       "\n",
       "  awarders  created_utc                                          full_link  \\\n",
       "0       []   1592565317  https://www.reddit.com/r/dataisbeautiful/comme...   \n",
       "1       []   1592564316  https://www.reddit.com/r/dataisbeautiful/comme...   \n",
       "2       []   1592564089  https://www.reddit.com/r/dataisbeautiful/comme...   \n",
       "3       []   1592563628  https://www.reddit.com/r/dataisbeautiful/comme...   \n",
       "4       []   1592561119  https://www.reddit.com/r/dataisbeautiful/comme...   \n",
       "\n",
       "   num_comments  over_18  \n",
       "0             0    False  \n",
       "1             1    False  \n",
       "2             1    False  \n",
       "3             0    False  \n",
       "4             2    False  "
      ]
     },
     "execution_count": 10,
     "metadata": {},
     "output_type": "execute_result"
    }
   ],
   "source": [
    "# загрузка\n",
    "df_new = pd.read_csv('r_dataisbeautiful_posts.csv')\n",
    "\n",
    "# отображение\n",
    "df_new.head()"
   ]
  },
  {
   "cell_type": "code",
   "execution_count": 11,
   "metadata": {},
   "outputs": [
    {
     "data": {
      "text/html": [
       "<div>\n",
       "<style scoped>\n",
       "    .dataframe tbody tr th:only-of-type {\n",
       "        vertical-align: middle;\n",
       "    }\n",
       "\n",
       "    .dataframe tbody tr th {\n",
       "        vertical-align: top;\n",
       "    }\n",
       "\n",
       "    .dataframe thead th {\n",
       "        text-align: right;\n",
       "    }\n",
       "</style>\n",
       "<table border=\"1\" class=\"dataframe\">\n",
       "  <thead>\n",
       "    <tr style=\"text-align: right;\">\n",
       "      <th></th>\n",
       "      <th>title</th>\n",
       "      <th>over_18</th>\n",
       "    </tr>\n",
       "  </thead>\n",
       "  <tbody>\n",
       "    <tr>\n",
       "      <th>0</th>\n",
       "      <td>[OC] How Bar Chart Race Animation Can be Creat...</td>\n",
       "      <td>False</td>\n",
       "    </tr>\n",
       "    <tr>\n",
       "      <th>1</th>\n",
       "      <td>[UK] Labour and Conservative vote share by age...</td>\n",
       "      <td>False</td>\n",
       "    </tr>\n",
       "    <tr>\n",
       "      <th>2</th>\n",
       "      <td>[NOC] Number of wallets returned across the wo...</td>\n",
       "      <td>False</td>\n",
       "    </tr>\n",
       "    <tr>\n",
       "      <th>3</th>\n",
       "      <td>Largest Banana Producing Countries (1961-2020)...</td>\n",
       "      <td>False</td>\n",
       "    </tr>\n",
       "    <tr>\n",
       "      <th>4</th>\n",
       "      <td>[OC] Popular Combinations for the StamiStudios...</td>\n",
       "      <td>False</td>\n",
       "    </tr>\n",
       "  </tbody>\n",
       "</table>\n",
       "</div>"
      ],
      "text/plain": [
       "                                               title  over_18\n",
       "0  [OC] How Bar Chart Race Animation Can be Creat...    False\n",
       "1  [UK] Labour and Conservative vote share by age...    False\n",
       "2  [NOC] Number of wallets returned across the wo...    False\n",
       "3  Largest Banana Producing Countries (1961-2020)...    False\n",
       "4  [OC] Popular Combinations for the StamiStudios...    False"
      ]
     },
     "execution_count": 11,
     "metadata": {},
     "output_type": "execute_result"
    }
   ],
   "source": [
    "# очистка от всех признаков кроме title\n",
    "\n",
    "df_new = df_new.drop(['id', 'score','author','author_flair_text','removed_by','total_awards_received',\n",
    "             'awarders','created_utc','full_link','num_comments'], axis = 1)\n",
    "df_new.head()"
   ]
  },
  {
   "cell_type": "code",
   "execution_count": 12,
   "metadata": {},
   "outputs": [
    {
     "data": {
      "text/plain": [
       "183891"
      ]
     },
     "execution_count": 12,
     "metadata": {},
     "output_type": "execute_result"
    }
   ],
   "source": [
    "# кол-во записей\n",
    "\n",
    "len(df_new)"
   ]
  },
  {
   "cell_type": "code",
   "execution_count": 13,
   "metadata": {},
   "outputs": [
    {
     "data": {
      "text/html": [
       "<div>\n",
       "<style scoped>\n",
       "    .dataframe tbody tr th:only-of-type {\n",
       "        vertical-align: middle;\n",
       "    }\n",
       "\n",
       "    .dataframe tbody tr th {\n",
       "        vertical-align: top;\n",
       "    }\n",
       "\n",
       "    .dataframe thead th {\n",
       "        text-align: right;\n",
       "    }\n",
       "</style>\n",
       "<table border=\"1\" class=\"dataframe\">\n",
       "  <thead>\n",
       "    <tr style=\"text-align: right;\">\n",
       "      <th></th>\n",
       "      <th>title</th>\n",
       "      <th>over_18</th>\n",
       "    </tr>\n",
       "  </thead>\n",
       "  <tbody>\n",
       "    <tr>\n",
       "      <th>0</th>\n",
       "      <td>[OC] How Bar Chart Race Animation Can be Creat...</td>\n",
       "      <td>False</td>\n",
       "    </tr>\n",
       "    <tr>\n",
       "      <th>1</th>\n",
       "      <td>[UK] Labour and Conservative vote share by age...</td>\n",
       "      <td>False</td>\n",
       "    </tr>\n",
       "    <tr>\n",
       "      <th>2</th>\n",
       "      <td>[NOC] Number of wallets returned across the wo...</td>\n",
       "      <td>False</td>\n",
       "    </tr>\n",
       "    <tr>\n",
       "      <th>3</th>\n",
       "      <td>Largest Banana Producing Countries (1961-2020)...</td>\n",
       "      <td>False</td>\n",
       "    </tr>\n",
       "    <tr>\n",
       "      <th>4</th>\n",
       "      <td>[OC] Popular Combinations for the StamiStudios...</td>\n",
       "      <td>False</td>\n",
       "    </tr>\n",
       "  </tbody>\n",
       "</table>\n",
       "</div>"
      ],
      "text/plain": [
       "                                               title  over_18\n",
       "0  [OC] How Bar Chart Race Animation Can be Creat...    False\n",
       "1  [UK] Labour and Conservative vote share by age...    False\n",
       "2  [NOC] Number of wallets returned across the wo...    False\n",
       "3  Largest Banana Producing Countries (1961-2020)...    False\n",
       "4  [OC] Popular Combinations for the StamiStudios...    False"
      ]
     },
     "execution_count": 13,
     "metadata": {},
     "output_type": "execute_result"
    }
   ],
   "source": [
    "# очистка от null значений\n",
    "\n",
    "df_new = df_new.dropna()\n",
    "\n",
    "df_new.head()"
   ]
  },
  {
   "cell_type": "code",
   "execution_count": 14,
   "metadata": {},
   "outputs": [
    {
     "data": {
      "text/plain": [
       "183890"
      ]
     },
     "execution_count": 14,
     "metadata": {},
     "output_type": "execute_result"
    }
   ],
   "source": [
    "# кол-во записей после очистки\n",
    "\n",
    "len(df_new)"
   ]
  },
  {
   "cell_type": "markdown",
   "metadata": {},
   "source": [
    "## Ещё раз посмотрим на балансировку"
   ]
  },
  {
   "cell_type": "code",
   "execution_count": 15,
   "metadata": {},
   "outputs": [
    {
     "data": {
      "text/plain": [
       "<matplotlib.axes._subplots.AxesSubplot at 0x5b9fcc6808>"
      ]
     },
     "execution_count": 15,
     "metadata": {},
     "output_type": "execute_result"
    },
    {
     "data": {
      "image/png": "[encoded data removed]",
      "text/plain": [
       "<Figure size 432x288 with 1 Axes>"
      ]
     },
     "metadata": {
      "needs_background": "light"
     },
     "output_type": "display_data"
    }
   ],
   "source": [
    "balance = df_new.groupby('over_18')['over_18'].count()\n",
    "\n",
    "sns.barplot(x = [False, True], y = balance)"
   ]
  },
  {
   "cell_type": "markdown",
   "metadata": {},
   "source": [
    "## Представим title через bag of words"
   ]
  },
  {
   "cell_type": "code",
   "execution_count": 16,
   "metadata": {},
   "outputs": [
    {
     "data": {
      "text/plain": [
       "0         [OC] How Bar Chart Race Animation Can be Creat...\n",
       "1         [UK] Labour and Conservative vote share by age...\n",
       "2         [NOC] Number of wallets returned across the wo...\n",
       "3         Largest Banana Producing Countries (1961-2020)...\n",
       "4         [OC] Popular Combinations for the StamiStudios...\n",
       "                                ...                        \n",
       "183886             Infosthetics seems like it belongs here.\n",
       "183887    Time lapse of every nuclear detonation from 19...\n",
       "183888                                              Wavii. \n",
       "183889    An interactive representation of Pres. Obamas ...\n",
       "183890    A map showing the geographical distribution of...\n",
       "Name: title, Length: 183890, dtype: object"
      ]
     },
     "execution_count": 16,
     "metadata": {},
     "output_type": "execute_result"
    }
   ],
   "source": [
    "title_new = df_new['title'].copy()\n",
    "title_new"
   ]
  },
  {
   "cell_type": "code",
   "execution_count": 17,
   "metadata": {},
   "outputs": [
    {
     "name": "stderr",
     "output_type": "stream",
     "text": [
      "D:\\conda\\lib\\site-packages\\sklearn\\utils\\deprecation.py:144: FutureWarning: The sklearn.feature_extraction.stop_words module is  deprecated in version 0.22 and will be removed in version 0.24. The corresponding classes / functions should instead be imported from sklearn.feature_extraction.text. Anything that cannot be imported from sklearn.feature_extraction.text is now part of the private API.\n",
      "  warnings.warn(message, FutureWarning)\n"
     ]
    },
    {
     "data": {
      "text/plain": [
       "<1x647524 sparse matrix of type '<class 'numpy.int64'>'\n",
       "\twith 25 stored elements in Compressed Sparse Row format>"
      ]
     },
     "execution_count": 17,
     "metadata": {},
     "output_type": "execute_result"
    }
   ],
   "source": [
    "# импортируем tfidf преобразование\n",
    "from sklearn.feature_extraction.text import CountVectorizer\n",
    "\n",
    "# стоп слова\n",
    "from sklearn.feature_extraction.stop_words import ENGLISH_STOP_WORDS\n",
    "\n",
    "# инициализировали алгоритм\n",
    "vectorizer = CountVectorizer(stop_words=ENGLISH_STOP_WORDS, ngram_range=(1, 2))\n",
    "\n",
    "# преобразовали в матрицу tfidf \n",
    "title_bow = vectorizer.fit_transform(title_new.values)\n",
    "\n",
    "# отобразим значения \n",
    "\n",
    "title_bow[0]"
   ]
  },
  {
   "cell_type": "markdown",
   "metadata": {},
   "source": [
    "## Выделим целевую переменную"
   ]
  },
  {
   "cell_type": "code",
   "execution_count": 18,
   "metadata": {},
   "outputs": [
    {
     "data": {
      "text/plain": [
       "array([0, 0, 0, ..., 0, 0, 0])"
      ]
     },
     "execution_count": 18,
     "metadata": {},
     "output_type": "execute_result"
    }
   ],
   "source": [
    "y = np.array([1 if i == True else 0 for i in df_new['over_18']]) # ответы\n",
    "y"
   ]
  },
  {
   "cell_type": "markdown",
   "metadata": {},
   "source": [
    "## Сделаем train-test split"
   ]
  },
  {
   "cell_type": "code",
   "execution_count": 20,
   "metadata": {},
   "outputs": [],
   "source": [
    "from sklearn.model_selection import train_test_split\n",
    "\n",
    "X_train, X_test, y_train, y_test = train_test_split(title_bow,\n",
    "                                                   y,\n",
    "                                                   test_size=0.2,\n",
    "                                                   random_state=42)"
   ]
  },
  {
   "cell_type": "markdown",
   "metadata": {},
   "source": [
    "# Обучение алгоритмов"
   ]
  },
  {
   "cell_type": "markdown",
   "metadata": {},
   "source": [
    "Как правило, лучше всего с тектсовыми данными из классических алгоритмов справляется Наивный Баес и его модификации. Начнём с него.\n",
    "\n",
    "Для тюнинга алгоритмов используем кросс-валидацию на тобучающей выборке"
   ]
  },
  {
   "cell_type": "code",
   "execution_count": 21,
   "metadata": {},
   "outputs": [],
   "source": [
    "# Функция отрисовки графиков\n",
    "def grid_plot(x, y, x_label, title, y_label='f1'):\n",
    "    # определили размер графика\n",
    "    plt.figure(figsize=(12, 6))\n",
    "    # добавили сетку на фон\n",
    "    plt.grid(True)\n",
    "    # построили по х - число соседей, по y - точность\n",
    "    plt.plot(x, y, 'go-')\n",
    "    # добавили подписи осей и название графика\n",
    "    plt.xlabel(x_label)\n",
    "    plt.ylabel(y_label)\n",
    "    plt.title(title)"
   ]
  },
  {
   "cell_type": "markdown",
   "metadata": {},
   "source": [
    "## Naive Bayes classifiers"
   ]
  },
  {
   "cell_type": "markdown",
   "metadata": {},
   "source": [
    "### Multinomial Naive Bayes"
   ]
  },
  {
   "cell_type": "code",
   "execution_count": 22,
   "metadata": {},
   "outputs": [
    {
     "name": "stdout",
     "output_type": "stream",
     "text": [
      "Fitting 5 folds for each of 30 candidates, totalling 150 fits\n"
     ]
    },
    {
     "name": "stderr",
     "output_type": "stream",
     "text": [
      "[Parallel(n_jobs=-1)]: Using backend LokyBackend with 8 concurrent workers.\n",
      "[Parallel(n_jobs=-1)]: Done  25 tasks      | elapsed:    1.9s\n",
      "[Parallel(n_jobs=-1)]: Done 150 out of 150 | elapsed:    6.7s finished\n",
      "D:\\conda\\lib\\site-packages\\sklearn\\naive_bayes.py:507: UserWarning: alpha too small will result in numeric errors, setting alpha = 1.0e-10\n",
      "  'setting alpha = %.1e' % _ALPHA_MIN)\n"
     ]
    },
    {
     "data": {
      "text/plain": [
       "({'alpha': 0.0}, 0.10815847078844314)"
      ]
     },
     "execution_count": 22,
     "metadata": {},
     "output_type": "execute_result"
    }
   ],
   "source": [
    "from sklearn.naive_bayes import MultinomialNB\n",
    "\n",
    "from sklearn.model_selection import GridSearchCV\n",
    "\n",
    "alg = MultinomialNB()\n",
    "\n",
    "grid = {'alpha': np.array(np.linspace(0, 6, 30), dtype='float'),\n",
    "        }\n",
    "\n",
    "gs = GridSearchCV(alg, grid, verbose=2, n_jobs = -1,scoring='f1')\n",
    "gs.fit(X_train, y_train)\n",
    "gs.best_params_, gs.best_score_"
   ]
  },
  {
   "cell_type": "code",
   "execution_count": 23,
   "metadata": {},
   "outputs": [
    {
     "data": {
      "image/png": "[encoded data removed]",
      "text/plain": [
       "<Figure size 864x432 with 1 Axes>"
      ]
     },
     "metadata": {
      "needs_background": "light"
     },
     "output_type": "display_data"
    }
   ],
   "source": [
    "grid_plot(grid['alpha'], gs.cv_results_['mean_test_score'], 'alpha', 'MultinomialNB')"
   ]
  },
  {
   "cell_type": "code",
   "execution_count": 24,
   "metadata": {},
   "outputs": [
    {
     "name": "stdout",
     "output_type": "stream",
     "text": [
      "              precision    recall  f1-score   support\n",
      "\n",
      "           0       1.00      0.98      0.99     36583\n",
      "           1       0.09      0.33      0.14       195\n",
      "\n",
      "    accuracy                           0.98     36778\n",
      "   macro avg       0.54      0.65      0.56     36778\n",
      "weighted avg       0.99      0.98      0.98     36778\n",
      "\n"
     ]
    },
    {
     "name": "stderr",
     "output_type": "stream",
     "text": [
      "D:\\conda\\lib\\site-packages\\sklearn\\naive_bayes.py:507: UserWarning: alpha too small will result in numeric errors, setting alpha = 1.0e-10\n",
      "  'setting alpha = %.1e' % _ALPHA_MIN)\n"
     ]
    }
   ],
   "source": [
    "from sklearn.metrics import classification_report\n",
    "\n",
    "clf = MultinomialNB(0)\n",
    "clf.fit(X_train, y_train)\n",
    "\n",
    "preds = clf.predict(X_test)\n",
    "\n",
    "print(classification_report(y_test, preds))"
   ]
  },
  {
   "cell_type": "code",
   "execution_count": 25,
   "metadata": {},
   "outputs": [
    {
     "name": "stdout",
     "output_type": "stream",
     "text": [
      "[[35908   675]\n",
      " [  131    64]]\n"
     ]
    },
    {
     "data": {
      "text/plain": [
       "Text(0.5, 42.0, 'Predicted value')"
      ]
     },
     "execution_count": 25,
     "metadata": {},
     "output_type": "execute_result"
    },
    {
     "data": {
      "image/png": "[encoded data removed]",
      "text/plain": [
       "<Figure size 576x576 with 2 Axes>"
      ]
     },
     "metadata": {
      "needs_background": "light"
     },
     "output_type": "display_data"
    }
   ],
   "source": [
    "# confusion matrix\n",
    "from sklearn.metrics import confusion_matrix\n",
    "import matplotlib\n",
    "\n",
    "fig = plt.figure(figsize=(8,8))\n",
    "nn_mtx = confusion_matrix(y_test, preds)\n",
    "print(nn_mtx)\n",
    "font = {'weight' : 'bold', 'size'   :22}\n",
    "matplotlib.rc('xtick', labelsize=20) \n",
    "matplotlib.rc('ytick', labelsize=20) \n",
    "sns.heatmap(nn_mtx, annot=True, fmt=\"d\")\n",
    "plt.ylabel(\"Real value\")\n",
    "plt.xlabel(\"Predicted value\")"
   ]
  },
  {
   "cell_type": "markdown",
   "metadata": {},
   "source": [
    "Алгоритм очень плохо отличает один класс, так же в приницпе плохо его обнаруживает, так как данные очень несбалансированны. Много ошибок второго рода. \n",
    "\n",
    "Имеет смысл попробовать ComplementNB, так как он лучше работает с несбалансированными данными"
   ]
  },
  {
   "cell_type": "markdown",
   "metadata": {},
   "source": [
    "### Complement Naive Bayes"
   ]
  },
  {
   "cell_type": "code",
   "execution_count": 26,
   "metadata": {},
   "outputs": [
    {
     "name": "stdout",
     "output_type": "stream",
     "text": [
      "Fitting 5 folds for each of 30 candidates, totalling 150 fits\n"
     ]
    },
    {
     "name": "stderr",
     "output_type": "stream",
     "text": [
      "[Parallel(n_jobs=-1)]: Using backend LokyBackend with 8 concurrent workers.\n",
      "[Parallel(n_jobs=-1)]: Done  25 tasks      | elapsed:    1.2s\n",
      "[Parallel(n_jobs=-1)]: Done 150 out of 150 | elapsed:    6.6s finished\n",
      "D:\\conda\\lib\\site-packages\\sklearn\\naive_bayes.py:507: UserWarning: alpha too small will result in numeric errors, setting alpha = 1.0e-10\n",
      "  'setting alpha = %.1e' % _ALPHA_MIN)\n"
     ]
    },
    {
     "data": {
      "text/plain": [
       "({'alpha': 0.0}, 0.08364676128432466)"
      ]
     },
     "execution_count": 26,
     "metadata": {},
     "output_type": "execute_result"
    }
   ],
   "source": [
    "from sklearn.naive_bayes import ComplementNB\n",
    "\n",
    "alg = ComplementNB()\n",
    "\n",
    "grid = {'alpha': np.array(np.linspace(0, 6, 30), dtype='float'),\n",
    "        }\n",
    "\n",
    "gs = GridSearchCV(alg, grid, verbose=2, n_jobs = -1,scoring='f1')\n",
    "gs.fit(X_train, y_train)\n",
    "gs.best_params_, gs.best_score_"
   ]
  },
  {
   "cell_type": "code",
   "execution_count": 27,
   "metadata": {},
   "outputs": [
    {
     "name": "stdout",
     "output_type": "stream",
     "text": [
      "              precision    recall  f1-score   support\n",
      "\n",
      "           0       1.00      0.97      0.98     36583\n",
      "           1       0.06      0.36      0.10       195\n",
      "\n",
      "    accuracy                           0.97     36778\n",
      "   macro avg       0.53      0.67      0.54     36778\n",
      "weighted avg       0.99      0.97      0.98     36778\n",
      "\n"
     ]
    },
    {
     "name": "stderr",
     "output_type": "stream",
     "text": [
      "D:\\conda\\lib\\site-packages\\sklearn\\naive_bayes.py:507: UserWarning: alpha too small will result in numeric errors, setting alpha = 1.0e-10\n",
      "  'setting alpha = %.1e' % _ALPHA_MIN)\n"
     ]
    }
   ],
   "source": [
    "clf = ComplementNB(0)\n",
    "clf.fit(X_train, y_train)\n",
    "\n",
    "preds = clf.predict(X_test)\n",
    "\n",
    "print(classification_report(y_test, preds))"
   ]
  },
  {
   "cell_type": "code",
   "execution_count": 28,
   "metadata": {},
   "outputs": [
    {
     "name": "stdout",
     "output_type": "stream",
     "text": [
      "[[35494  1089]\n",
      " [  124    71]]\n"
     ]
    },
    {
     "data": {
      "text/plain": [
       "Text(0.5, 42.0, 'Predicted value')"
      ]
     },
     "execution_count": 28,
     "metadata": {},
     "output_type": "execute_result"
    },
    {
     "data": {
      "image/png": "[encoded data removed]",
      "text/plain": [
       "<Figure size 576x576 with 2 Axes>"
      ]
     },
     "metadata": {
      "needs_background": "light"
     },
     "output_type": "display_data"
    }
   ],
   "source": [
    "# confusion matrix\n",
    "from sklearn.metrics import confusion_matrix\n",
    "import matplotlib\n",
    "\n",
    "fig = plt.figure(figsize=(8,8))\n",
    "nn_mtx = confusion_matrix(y_test, preds)\n",
    "print(nn_mtx)\n",
    "font = {'weight' : 'bold', 'size'   :22}\n",
    "matplotlib.rc('xtick', labelsize=20) \n",
    "matplotlib.rc('ytick', labelsize=20) \n",
    "sns.heatmap(nn_mtx, annot=True, fmt=\"d\")\n",
    "plt.ylabel(\"Real value\")\n",
    "plt.xlabel(\"Predicted value\")"
   ]
  },
  {
   "cell_type": "markdown",
   "metadata": {},
   "source": [
    "Данные очень несблансированны, Complement Naive Bayes стал ещё хуже отличать один из классов, хотя он лучше работает с несбалансированными данными. Ещё больше ошибок второго рода. \n",
    "\n",
    "Однако ошибок первого рода стало меньше, recall больше, то есть этот алгоритм лучше обнаруживает класс 1\n",
    "\n",
    "Тут нужно решить, что ценнее, по мне, лучше совершать меньше ошибок первого рода, лучше находить 18+ тэг\n",
    "\n",
    "В этом случае алгоритм Complement Naive Bayes справился лучше\n",
    "\n",
    "По сравнению с tfidf представлением, bag of words сработал совсем немного хуже, хотя я ожидал, что метрики будут сильно отличаться\n"
   ]
  },
  {
   "cell_type": "markdown",
   "metadata": {},
   "source": [
    "## Logistic Regression"
   ]
  },
  {
   "cell_type": "code",
   "execution_count": 29,
   "metadata": {},
   "outputs": [
    {
     "name": "stdout",
     "output_type": "stream",
     "text": [
      "Fitting 5 folds for each of 30 candidates, totalling 150 fits\n"
     ]
    },
    {
     "name": "stderr",
     "output_type": "stream",
     "text": [
      "[Parallel(n_jobs=-1)]: Using backend LokyBackend with 8 concurrent workers.\n",
      "[Parallel(n_jobs=-1)]: Done  34 tasks      | elapsed:    9.6s\n",
      "[Parallel(n_jobs=-1)]: Done 150 out of 150 | elapsed:  4.6min finished\n"
     ]
    },
    {
     "name": "stdout",
     "output_type": "stream",
     "text": [
      "{'C': 0.1668100537200059, 'penalty': 'l2'} 0.324636430582989\n"
     ]
    }
   ],
   "source": [
    "from sklearn.linear_model import LogisticRegression\n",
    "\n",
    "alg = LogisticRegression(class_weight='balanced')\n",
    "\n",
    "grid = {'penalty': ['l1', 'l2', 'elasticnet'],\n",
    "        'C': np.array(np.logspace(-3, 2, num = 10), dtype='float'),\n",
    "        }\n",
    "\n",
    "gs = GridSearchCV(alg, grid, verbose=2, n_jobs = -1,scoring='f1')\n",
    "gs.fit(X_train, y_train)\n",
    "\n",
    "print(gs.best_params_, gs.best_score_)"
   ]
  },
  {
   "cell_type": "code",
   "execution_count": 30,
   "metadata": {},
   "outputs": [
    {
     "name": "stdout",
     "output_type": "stream",
     "text": [
      "              precision    recall  f1-score   support\n",
      "\n",
      "           0       1.00      0.99      0.99     36583\n",
      "           1       0.25      0.53      0.34       195\n",
      "\n",
      "    accuracy                           0.99     36778\n",
      "   macro avg       0.63      0.76      0.67     36778\n",
      "weighted avg       0.99      0.99      0.99     36778\n",
      "\n"
     ]
    }
   ],
   "source": [
    "clf = LogisticRegression(C= 0.1668100537200059,penalty='l2', class_weight='balanced')\n",
    "clf.fit(X_train, y_train)\n",
    "\n",
    "preds = clf.predict(X_test)\n",
    "\n",
    "print(classification_report(y_test, preds))"
   ]
  },
  {
   "cell_type": "code",
   "execution_count": 31,
   "metadata": {},
   "outputs": [
    {
     "name": "stdout",
     "output_type": "stream",
     "text": [
      "[[36278   305]\n",
      " [   91   104]]\n"
     ]
    },
    {
     "data": {
      "text/plain": [
       "Text(0.5, 42.0, 'Predicted value')"
      ]
     },
     "execution_count": 31,
     "metadata": {},
     "output_type": "execute_result"
    },
    {
     "data": {
      "image/png": "[encoded data removed]",
      "text/plain": [
       "<Figure size 576x576 with 2 Axes>"
      ]
     },
     "metadata": {
      "needs_background": "light"
     },
     "output_type": "display_data"
    }
   ],
   "source": [
    "# confusion matrix\n",
    "from sklearn.metrics import confusion_matrix\n",
    "import matplotlib\n",
    "\n",
    "fig = plt.figure(figsize=(8,8))\n",
    "nn_mtx = confusion_matrix(y_test, preds)\n",
    "print(nn_mtx)\n",
    "font = {'weight' : 'bold', 'size'   :22}\n",
    "matplotlib.rc('xtick', labelsize=20) \n",
    "matplotlib.rc('ytick', labelsize=20) \n",
    "sns.heatmap(nn_mtx, annot=True, fmt=\"d\")\n",
    "plt.ylabel(\"Real value\")\n",
    "plt.xlabel(\"Predicted value\")"
   ]
  },
  {
   "cell_type": "code",
   "execution_count": 32,
   "metadata": {},
   "outputs": [
    {
     "name": "stdout",
     "output_type": "stream",
     "text": [
      "Fitting 5 folds for each of 30 candidates, totalling 150 fits\n"
     ]
    },
    {
     "name": "stderr",
     "output_type": "stream",
     "text": [
      "[Parallel(n_jobs=-1)]: Using backend LokyBackend with 8 concurrent workers.\n",
      "[Parallel(n_jobs=-1)]: Done  34 tasks      | elapsed:    7.6s\n",
      "[Parallel(n_jobs=-1)]: Done 150 out of 150 | elapsed:  3.7min finished\n"
     ]
    },
    {
     "name": "stdout",
     "output_type": "stream",
     "text": [
      "{'C': 27.825594022071257, 'penalty': 'l2'} 0.36865645664486746\n"
     ]
    },
    {
     "name": "stderr",
     "output_type": "stream",
     "text": [
      "D:\\conda\\lib\\site-packages\\sklearn\\linear_model\\_logistic.py:940: ConvergenceWarning: lbfgs failed to converge (status=1):\n",
      "STOP: TOTAL NO. of ITERATIONS REACHED LIMIT.\n",
      "\n",
      "Increase the number of iterations (max_iter) or scale the data as shown in:\n",
      "    https://scikit-learn.org/stable/modules/preprocessing.html\n",
      "Please also refer to the documentation for alternative solver options:\n",
      "    https://scikit-learn.org/stable/modules/linear_model.html#logistic-regression\n",
      "  extra_warning_msg=_LOGISTIC_SOLVER_CONVERGENCE_MSG)\n"
     ]
    }
   ],
   "source": [
    "from sklearn.linear_model import LogisticRegression\n",
    "\n",
    "alg = LogisticRegression()\n",
    "\n",
    "grid = {'penalty': ['l1', 'l2', 'elasticnet'],\n",
    "        'C': np.array(np.logspace(-3, 2, num = 10), dtype='float'),\n",
    "        }\n",
    "\n",
    "gs = GridSearchCV(alg, grid, verbose=2, n_jobs = -1,scoring='f1')\n",
    "gs.fit(X_train, y_train)\n",
    "\n",
    "print(gs.best_params_, gs.best_score_)"
   ]
  },
  {
   "cell_type": "code",
   "execution_count": 33,
   "metadata": {},
   "outputs": [
    {
     "name": "stdout",
     "output_type": "stream",
     "text": [
      "              precision    recall  f1-score   support\n",
      "\n",
      "           0       1.00      1.00      1.00     36583\n",
      "           1       0.55      0.31      0.40       195\n",
      "\n",
      "    accuracy                           0.99     36778\n",
      "   macro avg       0.77      0.66      0.70     36778\n",
      "weighted avg       0.99      0.99      0.99     36778\n",
      "\n"
     ]
    },
    {
     "name": "stderr",
     "output_type": "stream",
     "text": [
      "D:\\conda\\lib\\site-packages\\sklearn\\linear_model\\_logistic.py:940: ConvergenceWarning: lbfgs failed to converge (status=1):\n",
      "STOP: TOTAL NO. of ITERATIONS REACHED LIMIT.\n",
      "\n",
      "Increase the number of iterations (max_iter) or scale the data as shown in:\n",
      "    https://scikit-learn.org/stable/modules/preprocessing.html\n",
      "Please also refer to the documentation for alternative solver options:\n",
      "    https://scikit-learn.org/stable/modules/linear_model.html#logistic-regression\n",
      "  extra_warning_msg=_LOGISTIC_SOLVER_CONVERGENCE_MSG)\n"
     ]
    }
   ],
   "source": [
    "clf = LogisticRegression(C=27.825594022071257,penalty='l2')\n",
    "clf.fit(X_train, y_train)\n",
    "\n",
    "preds = clf.predict(X_test)\n",
    "\n",
    "print(classification_report(y_test, preds))"
   ]
  },
  {
   "cell_type": "code",
   "execution_count": 34,
   "metadata": {},
   "outputs": [
    {
     "name": "stdout",
     "output_type": "stream",
     "text": [
      "[[36533    50]\n",
      " [  134    61]]\n"
     ]
    },
    {
     "data": {
      "text/plain": [
       "Text(0.5, 42.0, 'Predicted value')"
      ]
     },
     "execution_count": 34,
     "metadata": {},
     "output_type": "execute_result"
    },
    {
     "data": {
      "image/png": "[encoded data removed]",
      "text/plain": [
       "<Figure size 576x576 with 2 Axes>"
      ]
     },
     "metadata": {
      "needs_background": "light"
     },
     "output_type": "display_data"
    }
   ],
   "source": [
    "# confusion matrix\n",
    "from sklearn.metrics import confusion_matrix\n",
    "import matplotlib\n",
    "\n",
    "fig = plt.figure(figsize=(8,8))\n",
    "nn_mtx = confusion_matrix(y_test, preds)\n",
    "print(nn_mtx)\n",
    "font = {'weight' : 'bold', 'size'   :22}\n",
    "matplotlib.rc('xtick', labelsize=20) \n",
    "matplotlib.rc('ytick', labelsize=20) \n",
    "sns.heatmap(nn_mtx, annot=True, fmt=\"d\")\n",
    "plt.ylabel(\"Real value\")\n",
    "plt.xlabel(\"Predicted value\")"
   ]
  },
  {
   "cell_type": "markdown",
   "metadata": {},
   "source": [
    "Я попробовал два типа логистической регрессии : со сбалансированными весами и с обычными. Если веса балансировать, то мы получаем ниже precision, но выше recall. f1 метрика остаётся прежней.\n",
    "\n",
    "Я думаю, что лучше иметь выше reacall, чтобы в принципе лучше обнаружать класс 18+ тега. Мы совершаем меньше ошибок первого рода, но больше ошибок второго\n",
    "\n",
    "В целом лог рег сработал сильно лучше по метрикам, чем алгоритмы Навиного Байеса"
   ]
  },
  {
   "cell_type": "markdown",
   "metadata": {},
   "source": [
    "# Небольшой вывод"
   ]
  },
  {
   "cell_type": "markdown",
   "metadata": {},
   "source": [
    "Больше алгоритмов обучить не получилось с таким представлением текста и таким объемом данных\n",
    "В других ноутбоках я попробую bag of words и обрезать датасет\n",
    "\n",
    "Пока из исследованного лучше всего логрег"
   ]
  }
 ],
 "metadata": {
  "kernelspec": {
   "display_name": "Python 3",
   "language": "python",
   "name": "python3"
  },
  "language_info": {
   "codemirror_mode": {
    "name": "ipython",
    "version": 3
   },
   "file_extension": ".py",
   "mimetype": "text/x-python",
   "name": "python",
   "nbconvert_exporter": "python",
   "pygments_lexer": "ipython3",
   "version": "3.7.6"
  },
  "toc": {
   "base_numbering": 1,
   "nav_menu": {},
   "number_sections": true,
   "sideBar": true,
   "skip_h1_title": false,
   "title_cell": "Table of Contents",
   "title_sidebar": "Contents",
   "toc_cell": false,
   "toc_position": {
    "height": "calc(100% - 180px)",
    "left": "10px",
    "top": "150px",
    "width": "384px"
   },
   "toc_section_display": true,
   "toc_window_display": true
  }
 },
 "nbformat": 4,
 "nbformat_minor": 4
}
